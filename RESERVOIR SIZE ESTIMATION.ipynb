{
 "cells": [
  {
   "cell_type": "markdown",
   "metadata": {
    "id": "CdnLkP1EaP4u"
   },
   "source": [
    "# <center>Can you hear the size of a reservoir?</center>  \n",
    "<center><b>Armin Hajar Sabri Sabri</b></center>  "
   ]
  },
  {
   "cell_type": "code",
   "execution_count": null,
   "metadata": {
    "id": "pcyn9Qx9d3ET"
   },
   "outputs": [],
   "source": [
    "# Import the packages we plan to use\n",
    "import matplotlib.pyplot as plt\n",
    "import numpy as np\n",
    "import scipy as sc\n",
    "import pandas as pd\n",
    "import math\n",
    "import scipy.sparse.linalg\n",
    "import timeit"
   ]
  },
  {
   "cell_type": "markdown",
   "metadata": {
    "id": "BaNxVG5SgUZA"
   },
   "source": [
    "## <center><b>Abstract</i></center>"
   ]
  },
  {
   "cell_type": "markdown",
   "metadata": {
    "id": "H9vIEayEIPiE"
   },
   "source": [
    "The following project has as its main aim, teach us how to solve differential equations by different methods such as Dense, Sparse and Thomas.Also we reviewd how can they be solved as time dependent or independent, including the error or not as well . We improve our profficiency coding using a large simulator with a Class and many functions inside which made more efficient our time coding and also using different functions at the same time. At the end we realized that the faster method to solve symmetric tridiagonal systems is Thomas Algortihm with a $0.00028$ seconds, followed by the Dense method with $0.00038671$ seconds and the slowest was Spicy with $0.00229$ when N is not too big. Finnally we plot the pressures we got from the matrix and noticed that the pressure has a steady behavior when is close to the end of the reservoir. From our results we can say that the ratio of the reservoir is $7.200\\rm {ft}$, with a volume of $7.38\\cdot10^6$ cubic meters."
   ]
  },
  {
   "cell_type": "markdown",
   "metadata": {
    "id": "297OiF-aEkdA"
   },
   "source": [
    "## Introduction"
   ]
  },
  {
   "cell_type": "markdown",
   "metadata": {
    "id": "IE9cl66G_-Vd"
   },
   "source": [
    "During the last classes we learnt about how to solve the heat equation for time dependent and independet as well, in order to gain knowledge about how to solve linear systems by different methods. We saw how useful is the heat equation for big systems like the change of the temperature of the earth but also for little systems like the process of the curing of the concret.\n",
    "\n",
    "We were set out a problem which we will solve in the following steps and it is to estimate the size of a reservoir that coints fluids in its porous. We started deriviating the equation of flow of fluids for a steady-state its means the pressure were not varying along the time. After have done this we divided the \"ratio\" of the reservoir in N number of grids equally spaced.\n",
    "\n",
    "In the first part to get our first matrix we used the second derivate of the pressure in terms of distance equation using a finite difference formulation and started to evaluated in the number of grids that we have which is 4 in this case, also we we took two different cases one when the boundary condition is \"Lazy\" its mean the pressure in this node is equal to the exterior pressure but this is going to induce us into an error, which is gonna be solved by using the \"Not lazy\" method which is solve this node by a Taylor's approximation. We solve this first part using *np.linalg.solve*. We plot both solutions and compare against the analytical solution and we saw how the error was fixed by introducing the boundary condition into the diffusivity equation.\n",
    "\n",
    "In the second part we were given equations which helped us to give a solution for a time-dependent system so we can see how the pressure have been changing with the time. We created a new matrix to solve this part and get new pressures. At this point we had started to create a Class which contains all the variables and functions needed to solve the laid out problem. Here we were ask to get the left and righ hand side of the matrix, which we did also with the same solver as the first part, but with the difference that we included a solver for the time, so we can obtain the pressure as the time goes move forward.\n",
    "\n",
    "In the third part we were asked to solve another analytical solution which is the line-solution and compare it with our numerical solution in physical coordinates  and also use different methods to solve linear system such as Sparse and Thomas. These were included in our main Class o simulator.\n",
    "\n",
    "Finnally in the last part, we were required to solve the pressure of the well using a Taylor's central difference method in terms of $P_0$. We also were given some data that was collected from the well and it was compared against out numerical solution, after we plot it and see that our model was a little bit far from the taken data, we fit out model to the main curve by varying the external ratio and the permeability, therefore this allowed us to estimated the volume of the reservoir.\n",
    "\n",
    "All the funcitons and variables were compressed in one class which made our job efficient, because every time that we needed to call an specific function we just called the class and the function that we wanted to execute, which is really usefull and organized."
   ]
  },
  {
   "cell_type": "markdown",
   "metadata": {
    "id": "Est2c9rbEqX6"
   },
   "source": [
    "## Exercise 1: Steady-state solution "
   ]
  },
  {
   "cell_type": "markdown",
   "metadata": {
    "id": "4oQ86qTYP4Mc"
   },
   "source": [
    "The simplest situation is when there is no pressure-variation in time, i.e., steadystate flow. Then, we can replace the partial derivatives with ordinary derivatives, and equations become:  \n",
    "$$\\frac{{\\rm d}^2p}{{\\rm d}y^2}(y)=0 \\qquad{\\rm for\\ all\\ y,} \\tag{1}$$  \n",
    "$$\\frac{{\\rm d}p}{{\\rm d}y}(y=y_w)=\\alpha  \\tag{2}$$  \n",
    "$$p(y=y_e)=p_{\\rm init}  \\tag{3}$$  "
   ]
  },
  {
   "cell_type": "markdown",
   "metadata": {
    "id": "u3IIiIgqEyd-"
   },
   "source": [
    "### Part 1."
   ]
  },
  {
   "cell_type": "markdown",
   "metadata": {
    "id": "BzMHBrmuOdKP"
   },
   "source": [
    "*   Show that the analytical solution to equations (1), (2), and (3) is  \n",
    "$$p(y)=p_{\\rm init}+\\alpha(y-y_e) \\tag{4} $$  "
   ]
  },
  {
   "cell_type": "markdown",
   "metadata": {
    "id": "CyQyl6jJE1f9"
   },
   "source": [
    "> According to equation (1),(2):  \n",
    "$$\\frac{dp}{dy}=\\int0{\\rm d}y={\\rm constant}=\\alpha$$  \n",
    "$$p=\\int\\alpha{\\rm d}y=y\\cdot\\alpha+{\\rm constant}$$  \n",
    "According to equation (3):  \n",
    "$$p(y=y_e)=p_{\\rm init}=y_e\\cdot\\alpha+{\\rm constant}$$\n",
    "$${\\rm constant}=p_{\\rm init}-y_e\\cdot\\alpha$$  \n",
    "Hence:  \n",
    "$$p(y)=y\\cdot\\alpha+p_{\\rm init}-y_e\\cdot\\alpha=p_{\\rm init}+\\alpha(y-y_e)$$"
   ]
  },
  {
   "cell_type": "markdown",
   "metadata": {
    "id": "m4L3NqGMFQhk"
   },
   "source": [
    "### Part 2."
   ]
  },
  {
   "cell_type": "markdown",
   "metadata": {
    "id": "Ef7uKdTobDLQ"
   },
   "source": [
    "To obtain a numerical steady-state solution, we start by dividing the total flow domain into N equally-sized grid blocks in the y-coordinates, and we select the midpoint of each y-block as our grid points (see figure 1). Let pi be a short-hand notation for the pressure solution at grid point number i, i = 0, 1, . . . ,N − 1.\n",
    " ![jupyter](https://i.ibb.co/Rz6zkGP/P1.png)  \n",
    "$$\\,\\rm {\\color{grey}{Figure\\,1:\\ Sketch\\ of\\ the\\ coordinate\\ transformation\\ r\\rightarrow y.\\ Note\\ that\\ the\\ pressure\\ is\\ always\\ evaluated\\ at\\ the\\ center\\ of\\ the\\ y-blocks.}}$$  "
   ]
  },
  {
   "cell_type": "markdown",
   "metadata": {
    "id": "3dlQojEGasv8"
   },
   "source": [
    "*   Approximate the second derivative of pressure in equation (1) with an appropriate finite difference formulation"
   ]
  },
  {
   "cell_type": "markdown",
   "metadata": {
    "id": "dbZf_v1Bi3MV"
   },
   "source": [
    "> $$\\frac{{\\rm d}^2p}{{\\rm d}y^2}(y)\\approx\\frac{p(y+\\Delta y)+p(y-\\Delta y)-2p(y)}{\\Delta y^2}=\\frac{p_{\\rm init}+\\alpha(y+\\Delta y-y_e)+p_{\\rm init}+\\alpha(y-\\Delta y-y_e)-2\\cdot(p_{\\rm init}+\\alpha(y-y_e))}{\\Delta y^2}=0$$  "
   ]
  },
  {
   "cell_type": "markdown",
   "metadata": {
    "id": "JcH4ShrsNvTr"
   },
   "source": [
    "* For grid point number i, write down the resulting finite difference equation in terms of the variables $p_i$. Remember to include the truncation error term."
   ]
  },
  {
   "cell_type": "markdown",
   "metadata": {
    "id": "7kcGE1oIf2R_"
   },
   "source": [
    "> $$\\frac{{\\rm d}^2p}{{\\rm d}y^2}(y_i)=\\frac{p_{i+1}+p_{i-1}-2p_i}{\\Delta y^2}+\\mathcal O(\\Delta y^2)=0 \\tag{5}$$  \n",
    "\n"
   ]
  },
  {
   "cell_type": "markdown",
   "metadata": {
    "id": "x1MkQMLtFwho"
   },
   "source": [
    "### Part 3."
   ]
  },
  {
   "cell_type": "markdown",
   "metadata": {
    "id": "vhRpG6e4a9Q3"
   },
   "source": [
    "If $p_e = p(y_e) = p_{init}$, the \"lazy\" option for the exterior reservoir boundary is to set  \n",
    "$$p_N = p_e\\tag{6}$$"
   ]
  },
  {
   "cell_type": "markdown",
   "metadata": {
    "id": "czX3DTW8a0MI"
   },
   "source": [
    "* Let $N = 4$. For the \"lazy\" implementation of the boundary condition at $y = y_e$, equation (6), show that the matrix equation we need to solve is  \n",
    "$$\\begin{pmatrix} -1 & 1 & 0 & 0 \\\\ 1 & -2 & 1 & 0 \\\\ 0 & 1 & -2 & 1 \\\\ 0 & 0 & 1 & -2 \\end{pmatrix}\\begin{pmatrix} p_0 \\\\ p_1 \\\\ p_2 \\\\ p_3 \\end{pmatrix}=\\begin{pmatrix} \\alpha\\Delta y \\\\ 0 \\\\0 \\\\ -p_e \\end{pmatrix} $$"
   ]
  },
  {
   "cell_type": "markdown",
   "metadata": {
    "id": "HvrTpt6vF1of"
   },
   "source": [
    "> According to equation (5):  \n",
    "$$p_{-1}+p_1-2p_0=0$$  \n",
    "$$p_0+p_2-2p_1=0$$  \n",
    "$$p_1+p_3-2p_2=0$$  \n",
    "$$p_2+p_4-2p_3=0$$  \n",
    "Due $N=4$ and equation (6), $p_N=p_4=p_e$  \n",
    "And central difference approximation to express the pressure at \"the ghost node\" $i = −1$ in terms of $p_0$:  \n",
    "$$\\frac{\\rm dp}{\\rm dy}\\bigg|_{y = 0}=\\frac{p_0-p_{-1}}{\\Delta y}+\\mathcal O(\\Delta y)=\\alpha$$  \n",
    "$$\\Rightarrow p_{-1}=p_0-\\alpha\\Delta y$$  \n",
    "Hence:  \n",
    "$$-p_0+p_1=\\alpha\\Delta y$$  \n",
    "$$p_0-2p_1+p_2=0$$  \n",
    "$$p_1-2p_2+p_3=0$$  \n",
    "$$p_2-2p_3=-p_e$$  \n",
    "$$\\Rightarrow \\begin{pmatrix} -1 & 1 & 0 & 0 \\\\ 1 & -2 & 1 & 0 \\\\ 0 & 1 & -2 & 1 \\\\ 0 & 0 & 1 & -2 \\end{pmatrix}\\begin{pmatrix} p_0 \\\\ p_1 \\\\ p_2 \\\\ p_3 \\end{pmatrix}=\\begin{pmatrix} \\alpha\\Delta y \\\\ 0 \\\\0 \\\\ -p_e \\end{pmatrix} $$\n"
   ]
  },
  {
   "cell_type": "markdown",
   "metadata": {
    "id": "96-pCUcjF19b"
   },
   "source": [
    "### Part 4."
   ]
  },
  {
   "cell_type": "markdown",
   "metadata": {
    "id": "sJY_sOvTbOCp"
   },
   "source": [
    "We can investigate the error of the \"lazy\" approximation formally with Taylor’s formula:  \n",
    "$$p_N =p(y_e+\\frac{\\Delta y}{2})=p(y_e) + p'(y_e)\\frac{\\Delta y}{2}+\\frac{1}{2}\\frac{\\rm d^2 p}{\\rm dy^2}(\\frac{\\Delta y}{2})^2+\\cdots$$  \n",
    "In the steady state limit we see from equation (1) that $\\frac{\\rm d^2 p}{\\rm dy^2}=0$, hence all higher-order terms are zero. Therefore, we get  \n",
    "$$p_N = p_e + p'(y_e)\\frac{\\Delta y}{2}\\tag{7}$$  \n",
    "A smarter solution for i = N − 1 is therefore to write  \n",
    "$$p'(y_e) = \\frac{p_N-p_{N-1}}{\\Delta y}$$  \n",
    "and to use equation (7) to derive a \"not-so-lazy\" boundary condition  \n",
    "$$p_N =2p_e-p_{N-1}\\tag{8}$$  "
   ]
  },
  {
   "cell_type": "markdown",
   "metadata": {
    "id": "5Ek0t3T3bRDN"
   },
   "source": [
    "* Let N = 4. What is the matrix equation we need to solve when using equation (8) as boundary condition?  "
   ]
  },
  {
   "cell_type": "markdown",
   "metadata": {
    "id": "yndkubjDNEHJ"
   },
   "source": [
    "> Due to $N=4$ and equation (8), $p_4=2p_e-p_3$  \n",
    "Hence:  \n",
    "$$-p_0+p_1=\\alpha\\Delta y$$  \n",
    "$$p_0-2p_1+p_2=0$$  \n",
    "$$p_1-2p_2+p_3=0$$  \n",
    "$$p_2-3p_3=-2p_e$$  \n",
    "$$\\Rightarrow \\begin{pmatrix} -1 & 1 & 0 & 0 \\\\ 1 & -2 & 1 & 0 \\\\ 0 & 1 & -2 & 1 \\\\ 0 & 0 & 1 & -3 \\end{pmatrix}\\begin{pmatrix} p_0 \\\\ p_1 \\\\ p_2 \\\\ p_3 \\end{pmatrix}=\\begin{pmatrix} \\alpha\\Delta y \\\\ 0 \\\\0 \\\\ -2p_e \\end{pmatrix} $$\n"
   ]
  },
  {
   "cell_type": "markdown",
   "metadata": {
    "id": "jK01Zjb-aabt"
   },
   "source": [
    "### Part 5."
   ]
  },
  {
   "cell_type": "markdown",
   "metadata": {
    "id": "FsqkuddRblVS"
   },
   "source": [
    "* For both implementations of the boundary condition at $y = y_e$, solve the matrix equation for $N =$ 4, 40, 400, and 4000.  \n",
    "* Compare with the analytical expression, equation (4), in a single point."
   ]
  },
  {
   "cell_type": "code",
   "execution_count": null,
   "metadata": {
    "colab": {
     "base_uri": "https://localhost:8080/",
     "height": 1000
    },
    "executionInfo": {
     "elapsed": 5994,
     "status": "ok",
     "timestamp": 1634079747812,
     "user": {
      "displayName": "Matsuhiro Shi",
      "photoUrl": "https://lh3.googleusercontent.com/a/default-user=s64",
      "userId": "10142549915009995010"
     },
     "user_tz": -120
    },
    "id": "p2SHbpAG5-Mi",
    "outputId": "84197817-28e5-4e3b-f0b2-c872fd44181e"
   },
   "outputs": [
    {
     "name": "stdout",
     "output_type": "stream",
     "text": [
      "When N=4 for 1st implementation\n",
      "[[-1.  1.  0.  0.]\n",
      " [ 1. -2.  1.  0.]\n",
      " [ 0.  1. -2.  1.]\n",
      " [ 0.  0.  1. -2.]]\n",
      "[p0,p1,...,p4]=[3891.97750305 3893.98312729 3895.98875153 3897.99437576]\n"
     ]
    },
    {
     "data": {
      "image/png": "[encoded data removed]",
      "text/plain": [
       "<Figure size 432x288 with 1 Axes>"
      ]
     },
     "metadata": {
      "needs_background": "light"
     },
     "output_type": "display_data"
    },
    {
     "name": "stdout",
     "output_type": "stream",
     "text": [
      "error at point 2 is=1.0028121186969656 \n",
      "\n",
      "When N=4 for 2nd implementation\n",
      "[[-1.  1.  0.  0.]\n",
      " [ 1. -2.  1.  0.]\n",
      " [ 0.  1. -2.  1.]\n",
      " [ 0.  0.  1. -3.]]\n",
      "[p0,p1,...,p4]=[3892.98031517 3894.98593941 3896.99156364 3898.99718788]\n"
     ]
    },
    {
     "data": {
      "image/png": "[encoded data removed]",
      "text/plain": [
       "<Figure size 432x288 with 1 Axes>"
      ]
     },
     "metadata": {
      "needs_background": "light"
     },
     "output_type": "display_data"
    },
    {
     "name": "stdout",
     "output_type": "stream",
     "text": [
      "error at point 2 is=4.547473508864641e-13 \n",
      "\n",
      "When N=40 for 1st implementation\n",
      "[[-1.  1.  0. ...  0.  0.  0.]\n",
      " [ 1. -2.  1. ...  0.  0.  0.]\n",
      " [ 0.  1. -2. ...  0.  0.  0.]\n",
      " ...\n",
      " [ 0.  0.  0. ... -2.  1.  0.]\n",
      " [ 0.  0.  0. ...  1. -2.  1.]\n",
      " [ 0.  0.  0. ...  0.  1. -2.]]\n",
      "[p0,p1,...,p40]=[3891.97750305 3892.17806547 3892.3786279  3892.57919032 3892.77975275\n",
      " 3892.98031517 3893.18087759 3893.38144002 3893.58200244 3893.78256486\n",
      " 3893.98312729 3894.18368971 3894.38425214 3894.58481456 3894.78537698\n",
      " 3894.98593941 3895.18650183 3895.38706425 3895.58762668 3895.7881891\n",
      " 3895.98875153 3896.18931395 3896.38987637 3896.5904388  3896.79100122\n",
      " 3896.99156364 3897.19212607 3897.39268849 3897.59325092 3897.79381334\n",
      " 3897.99437576 3898.19493819 3898.39550061 3898.59606303 3898.79662546\n",
      " 3898.99718788 3899.19775031 3899.39831273 3899.59887515 3899.79943758]\n"
     ]
    },
    {
     "data": {
      "image/png": "[encoded data removed]",
      "text/plain": [
       "<Figure size 432x288 with 1 Axes>"
      ]
     },
     "metadata": {
      "needs_background": "light"
     },
     "output_type": "display_data"
    },
    {
     "name": "stdout",
     "output_type": "stream",
     "text": [
      "error at point 20 is=0.10028121186951466 \n",
      "\n",
      "When N=40 for 2nd implementation\n",
      "[[-1.  1.  0. ...  0.  0.  0.]\n",
      " [ 1. -2.  1. ...  0.  0.  0.]\n",
      " [ 0.  1. -2. ...  0.  0.  0.]\n",
      " ...\n",
      " [ 0.  0.  0. ... -2.  1.  0.]\n",
      " [ 0.  0.  0. ...  1. -2.  1.]\n",
      " [ 0.  0.  0. ...  0.  1. -3.]]\n",
      "[p0,p1,...,p40]=[3892.07778426 3892.27834669 3892.47890911 3892.67947153 3892.88003396\n",
      " 3893.08059638 3893.2811588  3893.48172123 3893.68228365 3893.88284608\n",
      " 3894.0834085  3894.28397092 3894.48453335 3894.68509577 3894.88565819\n",
      " 3895.08622062 3895.28678304 3895.48734547 3895.68790789 3895.88847031\n",
      " 3896.08903274 3896.28959516 3896.49015758 3896.69072001 3896.89128243\n",
      " 3897.09184486 3897.29240728 3897.4929697  3897.69353213 3897.89409455\n",
      " 3898.09465697 3898.2952194  3898.49578182 3898.69634425 3898.89690667\n",
      " 3899.09746909 3899.29803152 3899.49859394 3899.69915636 3899.89971879]\n"
     ]
    },
    {
     "data": {
      "image/png": "[encoded data removed]",
      "text/plain": [
       "<Figure size 432x288 with 1 Axes>"
      ]
     },
     "metadata": {
      "needs_background": "light"
     },
     "output_type": "display_data"
    },
    {
     "name": "stdout",
     "output_type": "stream",
     "text": [
      "error at point 20 is=0.0 \n",
      "\n",
      "When N=400 for 1st implementation\n",
      "[[-1.  1.  0. ...  0.  0.  0.]\n",
      " [ 1. -2.  1. ...  0.  0.  0.]\n",
      " [ 0.  1. -2. ...  0.  0.  0.]\n",
      " ...\n",
      " [ 0.  0.  0. ... -2.  1.  0.]\n",
      " [ 0.  0.  0. ...  1. -2.  1.]\n",
      " [ 0.  0.  0. ...  0.  1. -2.]]\n",
      "[p0,p1,...,p400]=[3891.97750305 3891.99755929 3892.01761554 3892.03767178 3892.05772802\n",
      " 3892.07778426 3892.0978405  3892.11789675 3892.13795299 3892.15800923\n",
      " 3892.17806547 3892.19812172 3892.21817796 3892.2382342  3892.25829044\n",
      " 3892.27834669 3892.29840293 3892.31845917 3892.33851541 3892.35857166\n",
      " 3892.3786279  3892.39868414 3892.41874038 3892.43879663 3892.45885287\n",
      " 3892.47890911 3892.49896535 3892.51902159 3892.53907784 3892.55913408\n",
      " 3892.57919032 3892.59924656 3892.61930281 3892.63935905 3892.65941529\n",
      " 3892.67947153 3892.69952778 3892.71958402 3892.73964026 3892.7596965\n",
      " 3892.77975275 3892.79980899 3892.81986523 3892.83992147 3892.85997771\n",
      " 3892.88003396 3892.9000902  3892.92014644 3892.94020268 3892.96025893\n",
      " 3892.98031517 3893.00037141 3893.02042765 3893.0404839  3893.06054014\n",
      " 3893.08059638 3893.10065262 3893.12070887 3893.14076511 3893.16082135\n",
      " 3893.18087759 3893.20093384 3893.22099008 3893.24104632 3893.26110256\n",
      " 3893.2811588  3893.30121505 3893.32127129 3893.34132753 3893.36138377\n",
      " 3893.38144002 3893.40149626 3893.4215525  3893.44160874 3893.46166499\n",
      " 3893.48172123 3893.50177747 3893.52183371 3893.54188996 3893.5619462\n",
      " 3893.58200244 3893.60205868 3893.62211493 3893.64217117 3893.66222741\n",
      " 3893.68228365 3893.70233989 3893.72239614 3893.74245238 3893.76250862\n",
      " 3893.78256486 3893.80262111 3893.82267735 3893.84273359 3893.86278983\n",
      " 3893.88284608 3893.90290232 3893.92295856 3893.9430148  3893.96307105\n",
      " 3893.98312729 3894.00318353 3894.02323977 3894.04329601 3894.06335226\n",
      " 3894.0834085  3894.10346474 3894.12352098 3894.14357723 3894.16363347\n",
      " 3894.18368971 3894.20374595 3894.2238022  3894.24385844 3894.26391468\n",
      " 3894.28397092 3894.30402717 3894.32408341 3894.34413965 3894.36419589\n",
      " 3894.38425214 3894.40430838 3894.42436462 3894.44442086 3894.4644771\n",
      " 3894.48453335 3894.50458959 3894.52464583 3894.54470207 3894.56475832\n",
      " 3894.58481456 3894.6048708  3894.62492704 3894.64498329 3894.66503953\n",
      " 3894.68509577 3894.70515201 3894.72520826 3894.7452645  3894.76532074\n",
      " 3894.78537698 3894.80543323 3894.82548947 3894.84554571 3894.86560195\n",
      " 3894.88565819 3894.90571444 3894.92577068 3894.94582692 3894.96588316\n",
      " 3894.98593941 3895.00599565 3895.02605189 3895.04610813 3895.06616438\n",
      " 3895.08622062 3895.10627686 3895.1263331  3895.14638935 3895.16644559\n",
      " 3895.18650183 3895.20655807 3895.22661432 3895.24667056 3895.2667268\n",
      " 3895.28678304 3895.30683928 3895.32689553 3895.34695177 3895.36700801\n",
      " 3895.38706425 3895.4071205  3895.42717674 3895.44723298 3895.46728922\n",
      " 3895.48734547 3895.50740171 3895.52745795 3895.54751419 3895.56757044\n",
      " 3895.58762668 3895.60768292 3895.62773916 3895.6477954  3895.66785165\n",
      " 3895.68790789 3895.70796413 3895.72802037 3895.74807662 3895.76813286\n",
      " 3895.7881891  3895.80824534 3895.82830159 3895.84835783 3895.86841407\n",
      " 3895.88847031 3895.90852656 3895.9285828  3895.94863904 3895.96869528\n",
      " 3895.98875153 3896.00880777 3896.02886401 3896.04892025 3896.06897649\n",
      " 3896.08903274 3896.10908898 3896.12914522 3896.14920146 3896.16925771\n",
      " 3896.18931395 3896.20937019 3896.22942643 3896.24948268 3896.26953892\n",
      " 3896.28959516 3896.3096514  3896.32970765 3896.34976389 3896.36982013\n",
      " 3896.38987637 3896.40993262 3896.42998886 3896.4500451  3896.47010134\n",
      " 3896.49015758 3896.51021383 3896.53027007 3896.55032631 3896.57038255\n",
      " 3896.5904388  3896.61049504 3896.63055128 3896.65060752 3896.67066377\n",
      " 3896.69072001 3896.71077625 3896.73083249 3896.75088874 3896.77094498\n",
      " 3896.79100122 3896.81105746 3896.8311137  3896.85116995 3896.87122619\n",
      " 3896.89128243 3896.91133867 3896.93139492 3896.95145116 3896.9715074\n",
      " 3896.99156364 3897.01161989 3897.03167613 3897.05173237 3897.07178861\n",
      " 3897.09184486 3897.1119011  3897.13195734 3897.15201358 3897.17206983\n",
      " 3897.19212607 3897.21218231 3897.23223855 3897.25229479 3897.27235104\n",
      " 3897.29240728 3897.31246352 3897.33251976 3897.35257601 3897.37263225\n",
      " 3897.39268849 3897.41274473 3897.43280098 3897.45285722 3897.47291346\n",
      " 3897.4929697  3897.51302595 3897.53308219 3897.55313843 3897.57319467\n",
      " 3897.59325092 3897.61330716 3897.6333634  3897.65341964 3897.67347588\n",
      " 3897.69353213 3897.71358837 3897.73364461 3897.75370085 3897.7737571\n",
      " 3897.79381334 3897.81386958 3897.83392582 3897.85398207 3897.87403831\n",
      " 3897.89409455 3897.91415079 3897.93420704 3897.95426328 3897.97431952\n",
      " 3897.99437576 3898.014432   3898.03448825 3898.05454449 3898.07460073\n",
      " 3898.09465697 3898.11471322 3898.13476946 3898.1548257  3898.17488194\n",
      " 3898.19493819 3898.21499443 3898.23505067 3898.25510691 3898.27516316\n",
      " 3898.2952194  3898.31527564 3898.33533188 3898.35538813 3898.37544437\n",
      " 3898.39550061 3898.41555685 3898.43561309 3898.45566934 3898.47572558\n",
      " 3898.49578182 3898.51583806 3898.53589431 3898.55595055 3898.57600679\n",
      " 3898.59606303 3898.61611928 3898.63617552 3898.65623176 3898.676288\n",
      " 3898.69634425 3898.71640049 3898.73645673 3898.75651297 3898.77656922\n",
      " 3898.79662546 3898.8166817  3898.83673794 3898.85679418 3898.87685043\n",
      " 3898.89690667 3898.91696291 3898.93701915 3898.9570754  3898.97713164\n",
      " 3898.99718788 3899.01724412 3899.03730037 3899.05735661 3899.07741285\n",
      " 3899.09746909 3899.11752534 3899.13758158 3899.15763782 3899.17769406\n",
      " 3899.19775031 3899.21780655 3899.23786279 3899.25791903 3899.27797527\n",
      " 3899.29803152 3899.31808776 3899.338144   3899.35820024 3899.37825649\n",
      " 3899.39831273 3899.41836897 3899.43842521 3899.45848146 3899.4785377\n",
      " 3899.49859394 3899.51865018 3899.53870643 3899.55876267 3899.57881891\n",
      " 3899.59887515 3899.61893139 3899.63898764 3899.65904388 3899.67910012\n",
      " 3899.69915636 3899.71921261 3899.73926885 3899.75932509 3899.77938133\n",
      " 3899.79943758 3899.81949382 3899.83955006 3899.8596063  3899.87966255\n",
      " 3899.89971879 3899.91977503 3899.93983127 3899.95988752 3899.97994376]\n"
     ]
    },
    {
     "data": {
      "image/png": "[encoded data removed]",
      "text/plain": [
       "<Figure size 432x288 with 1 Axes>"
      ]
     },
     "metadata": {
      "needs_background": "light"
     },
     "output_type": "display_data"
    },
    {
     "name": "stdout",
     "output_type": "stream",
     "text": [
      "error at point 200 is=0.010028121159393777 \n",
      "\n",
      "When N=400 for 2nd implementation\n",
      "[[-1.  1.  0. ...  0.  0.  0.]\n",
      " [ 1. -2.  1. ...  0.  0.  0.]\n",
      " [ 0.  1. -2. ...  0.  0.  0.]\n",
      " ...\n",
      " [ 0.  0.  0. ... -2.  1.  0.]\n",
      " [ 0.  0.  0. ...  1. -2.  1.]\n",
      " [ 0.  0.  0. ...  0.  1. -3.]]\n",
      "[p0,p1,...,p400]=[3891.98753117 3892.00758741 3892.02764366 3892.0476999  3892.06775614\n",
      " 3892.08781238 3892.10786863 3892.12792487 3892.14798111 3892.16803735\n",
      " 3892.1880936  3892.20814984 3892.22820608 3892.24826232 3892.26831856\n",
      " 3892.28837481 3892.30843105 3892.32848729 3892.34854353 3892.36859978\n",
      " 3892.38865602 3892.40871226 3892.4287685  3892.44882475 3892.46888099\n",
      " 3892.48893723 3892.50899347 3892.52904972 3892.54910596 3892.5691622\n",
      " 3892.58921844 3892.60927469 3892.62933093 3892.64938717 3892.66944341\n",
      " 3892.68949965 3892.7095559  3892.72961214 3892.74966838 3892.76972462\n",
      " 3892.78978087 3892.80983711 3892.82989335 3892.84994959 3892.87000584\n",
      " 3892.89006208 3892.91011832 3892.93017456 3892.95023081 3892.97028705\n",
      " 3892.99034329 3893.01039953 3893.03045578 3893.05051202 3893.07056826\n",
      " 3893.0906245  3893.11068074 3893.13073699 3893.15079323 3893.17084947\n",
      " 3893.19090571 3893.21096196 3893.2310182  3893.25107444 3893.27113068\n",
      " 3893.29118693 3893.31124317 3893.33129941 3893.35135565 3893.3714119\n",
      " 3893.39146814 3893.41152438 3893.43158062 3893.45163686 3893.47169311\n",
      " 3893.49174935 3893.51180559 3893.53186183 3893.55191808 3893.57197432\n",
      " 3893.59203056 3893.6120868  3893.63214305 3893.65219929 3893.67225553\n",
      " 3893.69231177 3893.71236802 3893.73242426 3893.7524805  3893.77253674\n",
      " 3893.79259299 3893.81264923 3893.83270547 3893.85276171 3893.87281795\n",
      " 3893.8928742  3893.91293044 3893.93298668 3893.95304292 3893.97309917\n",
      " 3893.99315541 3894.01321165 3894.03326789 3894.05332414 3894.07338038\n",
      " 3894.09343662 3894.11349286 3894.13354911 3894.15360535 3894.17366159\n",
      " 3894.19371783 3894.21377408 3894.23383032 3894.25388656 3894.2739428\n",
      " 3894.29399904 3894.31405529 3894.33411153 3894.35416777 3894.37422401\n",
      " 3894.39428026 3894.4143365  3894.43439274 3894.45444898 3894.47450523\n",
      " 3894.49456147 3894.51461771 3894.53467395 3894.5547302  3894.57478644\n",
      " 3894.59484268 3894.61489892 3894.63495517 3894.65501141 3894.67506765\n",
      " 3894.69512389 3894.71518013 3894.73523638 3894.75529262 3894.77534886\n",
      " 3894.7954051  3894.81546135 3894.83551759 3894.85557383 3894.87563007\n",
      " 3894.89568632 3894.91574256 3894.9357988  3894.95585504 3894.97591129\n",
      " 3894.99596753 3895.01602377 3895.03608001 3895.05613625 3895.0761925\n",
      " 3895.09624874 3895.11630498 3895.13636122 3895.15641747 3895.17647371\n",
      " 3895.19652995 3895.21658619 3895.23664244 3895.25669868 3895.27675492\n",
      " 3895.29681116 3895.31686741 3895.33692365 3895.35697989 3895.37703613\n",
      " 3895.39709238 3895.41714862 3895.43720486 3895.4572611  3895.47731734\n",
      " 3895.49737359 3895.51742983 3895.53748607 3895.55754231 3895.57759856\n",
      " 3895.5976548  3895.61771104 3895.63776728 3895.65782353 3895.67787977\n",
      " 3895.69793601 3895.71799225 3895.7380485  3895.75810474 3895.77816098\n",
      " 3895.79821722 3895.81827347 3895.83832971 3895.85838595 3895.87844219\n",
      " 3895.89849843 3895.91855468 3895.93861092 3895.95866716 3895.9787234\n",
      " 3895.99877965 3896.01883589 3896.03889213 3896.05894837 3896.07900462\n",
      " 3896.09906086 3896.1191171  3896.13917334 3896.15922959 3896.17928583\n",
      " 3896.19934207 3896.21939831 3896.23945455 3896.2595108  3896.27956704\n",
      " 3896.29962328 3896.31967952 3896.33973577 3896.35979201 3896.37984825\n",
      " 3896.39990449 3896.41996074 3896.44001698 3896.46007322 3896.48012946\n",
      " 3896.50018571 3896.52024195 3896.54029819 3896.56035443 3896.58041068\n",
      " 3896.60046692 3896.62052316 3896.6405794  3896.66063564 3896.68069189\n",
      " 3896.70074813 3896.72080437 3896.74086061 3896.76091686 3896.7809731\n",
      " 3896.80102934 3896.82108558 3896.84114183 3896.86119807 3896.88125431\n",
      " 3896.90131055 3896.9213668  3896.94142304 3896.96147928 3896.98153552\n",
      " 3897.00159177 3897.02164801 3897.04170425 3897.06176049 3897.08181673\n",
      " 3897.10187298 3897.12192922 3897.14198546 3897.1620417  3897.18209795\n",
      " 3897.20215419 3897.22221043 3897.24226667 3897.26232292 3897.28237916\n",
      " 3897.3024354  3897.32249164 3897.34254789 3897.36260413 3897.38266037\n",
      " 3897.40271661 3897.42277285 3897.4428291  3897.46288534 3897.48294158\n",
      " 3897.50299782 3897.52305407 3897.54311031 3897.56316655 3897.58322279\n",
      " 3897.60327904 3897.62333528 3897.64339152 3897.66344776 3897.68350401\n",
      " 3897.70356025 3897.72361649 3897.74367273 3897.76372898 3897.78378522\n",
      " 3897.80384146 3897.8238977  3897.84395394 3897.86401019 3897.88406643\n",
      " 3897.90412267 3897.92417891 3897.94423516 3897.9642914  3897.98434764\n",
      " 3898.00440388 3898.02446013 3898.04451637 3898.06457261 3898.08462885\n",
      " 3898.1046851  3898.12474134 3898.14479758 3898.16485382 3898.18491007\n",
      " 3898.20496631 3898.22502255 3898.24507879 3898.26513503 3898.28519128\n",
      " 3898.30524752 3898.32530376 3898.34536    3898.36541625 3898.38547249\n",
      " 3898.40552873 3898.42558497 3898.44564122 3898.46569746 3898.4857537\n",
      " 3898.50580994 3898.52586619 3898.54592243 3898.56597867 3898.58603491\n",
      " 3898.60609116 3898.6261474  3898.64620364 3898.66625988 3898.68631612\n",
      " 3898.70637237 3898.72642861 3898.74648485 3898.76654109 3898.78659734\n",
      " 3898.80665358 3898.82670982 3898.84676606 3898.86682231 3898.88687855\n",
      " 3898.90693479 3898.92699103 3898.94704728 3898.96710352 3898.98715976\n",
      " 3899.007216   3899.02727224 3899.04732849 3899.06738473 3899.08744097\n",
      " 3899.10749721 3899.12755346 3899.1476097  3899.16766594 3899.18772218\n",
      " 3899.20777843 3899.22783467 3899.24789091 3899.26794715 3899.2880034\n",
      " 3899.30805964 3899.32811588 3899.34817212 3899.36822837 3899.38828461\n",
      " 3899.40834085 3899.42839709 3899.44845333 3899.46850958 3899.48856582\n",
      " 3899.50862206 3899.5286783  3899.54873455 3899.56879079 3899.58884703\n",
      " 3899.60890327 3899.62895952 3899.64901576 3899.669072   3899.68912824\n",
      " 3899.70918449 3899.72924073 3899.74929697 3899.76935321 3899.78940946\n",
      " 3899.8094657  3899.82952194 3899.84957818 3899.86963442 3899.88969067\n",
      " 3899.90974691 3899.92980315 3899.94985939 3899.96991564 3899.98997188]\n"
     ]
    },
    {
     "data": {
      "image/png": "[encoded data removed]",
      "text/plain": [
       "<Figure size 432x288 with 1 Axes>"
      ]
     },
     "metadata": {
      "needs_background": "light"
     },
     "output_type": "display_data"
    },
    {
     "name": "stdout",
     "output_type": "stream",
     "text": [
      "error at point 200 is=2.7284841053187847e-11 \n",
      "\n",
      "When N=4000 for 1st implementation\n",
      "[[-1.  1.  0. ...  0.  0.  0.]\n",
      " [ 1. -2.  1. ...  0.  0.  0.]\n",
      " [ 0.  1. -2. ...  0.  0.  0.]\n",
      " ...\n",
      " [ 0.  0.  0. ... -2.  1.  0.]\n",
      " [ 0.  0.  0. ...  1. -2.  1.]\n",
      " [ 0.  0.  0. ...  0.  1. -2.]]\n",
      "[p0,p1,...,p4000]=[3891.97750305 3891.97950867 3891.9815143  ... 3899.99398313 3899.99598875\n",
      " 3899.99799438]\n"
     ]
    },
    {
     "data": {
      "image/png": "[encoded data removed]",
      "text/plain": [
       "<Figure size 432x288 with 1 Axes>"
      ]
     },
     "metadata": {
      "needs_background": "light"
     },
     "output_type": "display_data"
    },
    {
     "name": "stdout",
     "output_type": "stream",
     "text": [
      "error at point 2000 is=0.0010028121819232183 \n",
      "\n",
      "When N=4000 for 2nd implementation\n",
      "[[-1.  1.  0. ...  0.  0.  0.]\n",
      " [ 1. -2.  1. ...  0.  0.  0.]\n",
      " [ 0.  1. -2. ...  0.  0.  0.]\n",
      " ...\n",
      " [ 0.  0.  0. ... -2.  1.  0.]\n",
      " [ 0.  0.  0. ...  1. -2.  1.]\n",
      " [ 0.  0.  0. ...  0.  1. -3.]]\n",
      "[p0,p1,...,p4000]=[3891.97850586 3891.98051149 3891.98251711 ... 3899.99498594 3899.99699156\n",
      " 3899.99899719]\n"
     ]
    },
    {
     "data": {
      "image/png": "[encoded data removed]",
      "text/plain": [
       "<Figure size 432x288 with 1 Axes>"
      ]
     },
     "metadata": {
      "needs_background": "light"
     },
     "output_type": "display_data"
    },
    {
     "name": "stdout",
     "output_type": "stream",
     "text": [
      "error at point 2000 is=6.320988177321851e-11 \n",
      "\n"
     ]
    }
   ],
   "source": [
    "def analytical(x,implementation,Pi,alpha,xe):\n",
    "  return Pi+alpha*(x-xe)\n",
    "\n",
    "def tri_diag(a, b, c, k1=-1, k2=0, k3=1):\n",
    "  \"\"\" a,b,c diagonal terms\n",
    "    default k-values for 4x4 matrix:\n",
    "    | b0 c0 0  0 |\n",
    "    | a0 b1 c1 0 |\n",
    "    | 0  a1 b2 c2|\n",
    "    | 0  0  a2 b3|\n",
    "  \"\"\"\n",
    "  return np.diag(a, k1) + np.diag(b, k2) + np.diag(c, k3)\n",
    "\n",
    "def SolveMatrixEquaion(N,implementation):\n",
    "  # set simulation parameters\n",
    "  alpha=1\n",
    "  Pi=3900\n",
    "  rw=0.328\n",
    "  re=1000\n",
    "  ye=np.log(re/rw)\n",
    "  deltay=ye/N\n",
    "\n",
    "  y=np.arange(0,ye,deltay)+deltay/2\n",
    "\n",
    "  a=np.ones(N-1)\n",
    "  b=-2*np.ones(N)\n",
    "  c=np.ones(N-1)\n",
    "  #lhs boundary condition\n",
    "  b[0]=-1\n",
    "  if implementation==2:\n",
    "      b[N-1]=-3\n",
    "  A=tri_diag(a,b,c)\n",
    "  #rhs vector\n",
    "  d=np.zeros(N)\n",
    "  #rhs boundary condition\n",
    "  d[0]=alpha*deltay\n",
    "  if implementation==1:\n",
    "    d[N-1]=-Pi\n",
    "  else:\n",
    "    d[N-1]=-2*Pi\n",
    "  pn=np.linalg.solve(A,d)\n",
    "  if implementation==1:\n",
    "    print(\"When N=\",N,\" for 1st implementation\\n\",A,\"\\n[p0,p1,...,p\",N,\"]=\",pn,sep=\"\")\n",
    "  else:\n",
    "    print(\"When N=\",N,\" for 2nd implementation\\n\",A,\"\\n[p0,p1,...,p\",N,\"]=\",pn,sep=\"\")\n",
    "  \n",
    "  #analytical solution\n",
    "  pa=analytical(y,implementation,Pi,alpha,ye)\n",
    "  #view \n",
    "  plt.plot(y,pa,label='analytical',linewidth=10)\n",
    "  plt.plot(y,pn,'*',label='numerical')\n",
    "  plt.xlabel(\"radius in  log scale\")\n",
    "  plt.ylabel(\"pressure change\") \n",
    "  plt.legend()\n",
    "  plt.grid()\n",
    "  plt.show()  \n",
    "\n",
    "  #error\n",
    "  Ni=N//2\n",
    "  yi=y[Ni]\n",
    "  err=np.abs(pn[Ni]-analytical(yi,implementation,Pi,alpha,ye))\n",
    "  print(\"error at point \" + str(Ni)+\" is=\"+str(err),\"\\n\")\n",
    "\n",
    "SolveMatrixEquaion(4,1)\n",
    "SolveMatrixEquaion(4,2)\n",
    "SolveMatrixEquaion(40,1)\n",
    "SolveMatrixEquaion(40,2)\n",
    "SolveMatrixEquaion(400,1)\n",
    "SolveMatrixEquaion(400,2)\n",
    "SolveMatrixEquaion(4000,1)\n",
    "SolveMatrixEquaion(4000,2)"
   ]
  },
  {
   "cell_type": "markdown",
   "metadata": {
    "id": "GF3MPxA2V7Vk"
   },
   "source": [
    "* Does the numerical error scale as you expect in the two cases? Where do the errors originate from?"
   ]
  },
  {
   "cell_type": "markdown",
   "metadata": {
    "id": "-YPOcFFlX9Bs"
   },
   "source": [
    ">Yes we expected that the error would decrease as we are increasing the numbers of grids, but we did not expect that the error in not lazy case would be almost zero.  \n",
    "We think that the error comes from the discretization system, comparing that $P_n$ in equation (6) and equation (7) for not lazy and lazy, we can clearly see that the error could be elimanted by taking into account this term $p'(y_e)\\frac{\\Delta y}{2}$.  \n",
    "Since the infinite acting line-source solution is the most fundamental solution in well testing, and the analysis of the spatial and temporal behavior of this solution gives valuable insights. The line source solution is accurate for distances far away from the well at all times, but is not accurate for the well pressure at short times."
   ]
  },
  {
   "cell_type": "markdown",
   "metadata": {
    "id": "L_DlUhKiGfDq"
   },
   "source": [
    "## Exercise 2: Time-dependent solution  "
   ]
  },
  {
   "cell_type": "markdown",
   "metadata": {
    "id": "Wa28jwvpURjs"
   },
   "source": [
    "The equations needed in the rest of the project:  \n",
    "$$\\frac{\\partial p}{\\partial t}=\\eta\\cdot\\frac{e^{-2y_i}}{r_w^2}\\cdot\\frac{\\partial^2 p}{\\partial y^2}\\tag{9})$$  \n",
    "$$\\frac{\\partial p}{\\partial y}(y=y_w)=\\frac{Q\\mu}{2\\pi hk}\\tag{10}$$  \n",
    "$$p(y=y_e)=p_{init}\\tag{11}$$  \n",
    "To capture how pressure changes in time, we go back to the original diffusivity equation. We apply the following implicit time-discreization  \n",
    "$$\\frac{p_i^{n+1}-p_i^n}{\\Delta t}=\\eta\\cdot\\frac{e^{-2y_i}}{r_w^2}\\cdot\\frac{p_{i+1}^{n+1}+p_{i-1}^{n+1}-2p_i^{n+1}}{\\Delta y^2}\\tag{12}$$  "
   ]
  },
  {
   "cell_type": "markdown",
   "metadata": {
    "id": "pXUlp9F-E32d"
   },
   "source": [
    "### Part 1."
   ]
  },
  {
   "cell_type": "markdown",
   "metadata": {
    "id": "SNFM1CjeF1uf"
   },
   "source": [
    "* Show that for the special case N = 4, the matrix equation we need to solve each time step is:  \n",
    "$$\\underbrace{\\begin{pmatrix} 1+\\xi_0\t\\ & -\\xi_0\t & 0 & 0 \\\\ -\\xi_1 & 1+2\\xi_1 & -\\xi_1 & 0 \\\\ 0 & -\\xi_2 & 1+2\\xi_2 & -\\xi_2 \\\\ 0 & 0 & -\\xi_3 & 1+3\\xi_3 \\end{pmatrix}}_{A}\\underbrace{\\begin{pmatrix} p_0^{n+1} \\\\ p_1^{n+1} \\\\ p_2^{n+1} \\\\ p_3^{n+1} \\end{pmatrix}}_{p^{n+1}}=\\underbrace{\\begin{pmatrix} p_0^n \\\\ p_1^n \\\\ p_2^n \\\\ p_3^n \\end{pmatrix}}_{p^n}+\\underbrace{\\begin{pmatrix} -\\beta\\xi_0 \\\\ 0 \\\\0 \\\\ 2p_i\\xi_{N-1} \\end{pmatrix}}_{d} \\tag{13}$$  \n",
    "where we have defined  \n",
    "$$\\xi_i\\equiv\\frac{\\eta e^{-2y_i}\\Delta t}{r_w^2\\Delta y^2}$$  \n",
    "and  \n",
    "$$\\beta\\equiv\\frac{Q\\mu \\Delta y}{2\\pi k h}$$\n"
   ]
  },
  {
   "cell_type": "markdown",
   "metadata": {
    "id": "jSa3NcxUReRW"
   },
   "source": [
    "> According to equation (12) and $\\xi_i\\equiv\\frac{\\eta e^{-2y_i}\\Delta t}{r_w^2\\Delta y^2}$:  \n",
    "$$p_i^{n+1}-p_i^n=\\xi_i\\cdot (p_{i+1}^{n+1}+p_{i-1}^{n+1}-2p_i^{n+1})$$  \n",
    "$$ -\\xi_i\\cdot p_{i+1}^{n+1}+(2\\xi_i+1)\\cdot p_i^{n+1}-\\xi_i\\cdot p_{i-1}^{n+1}=p_i^n$$  \n",
    "$$\\Downarrow$$  \n",
    "$$ -\\xi_0\\cdot p_1^{n+1}+(2\\xi_0+1)\\cdot p_0^{n+1}-\\xi_0\\cdot p_{-1}^{n+1}=p_0^n$$  \n",
    "$$ -\\xi_1\\cdot p_2^{n+1}+(2\\xi_1+1)\\cdot p_1^{n+1}-\\xi_1\\cdot p_0^{n+1}=p_1^n$$  \n",
    "$$ -\\xi_2\\cdot p_3^{n+1}+(2\\xi_2+1)\\cdot p_2^{n+1}-\\xi_2\\cdot p_1^{n+1}=p_2^n$$    \n",
    "$$ -\\xi_3\\cdot p_4^{n+1}+(2\\xi_3+1)\\cdot p_3^{n+1}-\\xi_3\\cdot p_2^{n+1}=p_3^n$$    \n",
    "Due $N=4$ and equation (8), $p_N=p_4=2p_i-p_3^{n+1}$  \n",
    "And central difference approximation to express the pressure at \"the ghost node\" $i = −1$ in terms of $p_0$:  \n",
    "$\\frac{\\partial p}{\\partial y}\\bigg|_{y = 0}=\\frac{p_0^{n+1}-p_{-1}^{n+1}}{\\Delta y}+\\mathcal O(\\Delta y)=\\frac{Q\\mu}{2\\pi hk}$  \n",
    "$\\Rightarrow p_{-1}^{n+1}=p_0^{n+1}-\\beta$  \n",
    "Hence:  \n",
    "$$ -\\xi_0\\cdot p_1^{n+1}+(\\xi_0+1)\\cdot p_0^{n+1}=p_0^n-\\xi_0 \\beta$$  \n",
    "$$ -\\xi_1\\cdot p_2^{n+1}+(2\\xi_1+1)\\cdot p_1^{n+1}-\\xi_1\\cdot p_0^{n+1}=p_1^n$$  \n",
    "$$ -\\xi_2\\cdot p_3^{n+1}+(2\\xi_2+1)\\cdot p_2^{n+1}-\\xi_2\\cdot p_1^{n+1}=p_2^n$$  \n",
    "$$ (3\\xi_3+1)\\cdot p_3^{n+1}-\\xi_3\\cdot p_2^{n+1}=p_3^n+\\xi_3\\cdot 2p_i=p_3^n+\\xi_{N-1}\\cdot 2p_i$$  \n",
    "$$\\Rightarrow\\begin{pmatrix} 1+\\xi_0\t\\ & -\\xi_0\t & 0 & 0 \\\\ -\\xi_1 & 1+2\\xi_1 & -\\xi_1 & 0 \\\\ 0 & -\\xi_2 & 1+2\\xi_2 & -\\xi_2 \\\\ 0 & 0 & -\\xi_3 & 1+3\\xi_3 \\end{pmatrix}\\begin{pmatrix} p_0^{n+1} \\\\ p_1^{n+1} \\\\ p_2^{n+1} \\\\ p_3^{n+1} \\end{pmatrix}=\\begin{pmatrix} p_0^n \\\\ p_1^n \\\\ p_2^n \\\\ p_3^n \\end{pmatrix}+\\begin{pmatrix} -\\beta\\xi_0 \\\\ 0 \\\\0 \\\\ 2p_i\\xi_{N-1} \\end{pmatrix}$$  "
   ]
  },
  {
   "cell_type": "code",
   "execution_count": null,
   "metadata": {
    "id": "Mw15ZcJSo0up"
   },
   "outputs": [],
   "source": [
    "class RadialDiffusivityEquationSolver:\n",
    "  \"\"\"\n",
    "  A finite difference solver for the radial diffusivity equation.\n",
    "  We use the coordinate transformation y = ln(r/rw) to set up and\n",
    "  solve the pressure equation.\n",
    "  The solver uses SI units internally, while \"practical field units\"\n",
    "  are required as input.\n",
    "  Except for the number of grid points and the choice of time step,\n",
    "  all class instance attributes are provided with default values.\n",
    "  Input arguments:\n",
    "  name symbol unit\n",
    "  --------------------------------------------------------------\n",
    "  Number of grid points N dimensionless\n",
    "  Constant time step dt days\n",
    "  Well radius rw ft\n",
    "  Outer reservoir boundary re ft\n",
    "  Height of reservoir h ft\n",
    "  Absolute permeability k mD\n",
    "  Porosity phi dimensionless\n",
    "  Fluid viscosity mu mPas (cP)\n",
    "  Total (rock+fluid) compressibility ct 1 / psi\n",
    "  Constant flow rate at well Q bbl / day\n",
    "  Initial reservoir pressure pi psi\n",
    "  -------------------------------------------------------------\n",
    "  \"\"\"\n",
    "  def __init__(self,N,dt,t_final=4.5,rw=0.328,re=1000.0,h=8.0,phi=0.2,mu=1.0,ct=7.8e-6,Q=1000.0,k=500,pi=3900.0):\n",
    "    # Unit conversion factors (input units --> SI)\n",
    "    self.ft_to_m_ = 0.3048\n",
    "    self.psi_to_pa_ = 6894.75729\n",
    "    self.day_to_sec_ = 24.*60.*60.\n",
    "    self.bbl_to_m3_ = 0.1589873\n",
    "    # Grid\n",
    "    self.N_ = N\n",
    "    self.rw_ = rw*self.ft_to_m_\n",
    "    self.re_ = re*self.ft_to_m_\n",
    "    self.h_ = h*self.ft_to_m_\n",
    "    # Rock and fluid properties\n",
    "    self.k_ = k*1e-15 / 1.01325\n",
    "    self.phi_ = phi\n",
    "    self.mu_ = mu*1e-3\n",
    "    self.ct_ = ct / self.psi_to_pa_\n",
    "    # Initial and boundary conditions\n",
    "    self.Q_ = Q*self.bbl_to_m3_ / self.day_to_sec_\n",
    "    self.pi_ = pi*self.psi_to_pa_\n",
    "    # Time control for simulation\n",
    "    self.dt_ = dt*self.day_to_sec_\n",
    "\n",
    "    self.alpha=self.Q_*self.mu_/(2*math.pi*self.h_ *self.k_)\n",
    "    self.ye=np.log(self.re_/self.rw_)\n",
    "    self.deltay=self.ye/self.N_\n",
    "    self.y=np.arange(0,self.ye,self.deltay)+self.deltay/2\n",
    "    self.eta=self.k_/(self.ct_*self.phi_*self.mu_)\n",
    "    self.xi=self.eta*np.exp(-2*self.y)*self.dt_/(self.rw_**2*self.deltay**2)\n",
    "    self.beta=self.alpha*self.deltay\n",
    "\n",
    "    self.p_old=np.ones(self.N_)*self.pi_\n",
    "    self.a=-self.xi[1:self.N_]\n",
    "    self.b=1+2*self.xi\n",
    "    self.b[0]=1+self.xi[0]\n",
    "    self.b[-1]=1+3*self.xi[-1]    \n",
    "    self.c=-self.xi[0:self.N_-1]\n",
    "    self.A=self.tri_diag()\n",
    "    self.t=0\n",
    "    self.t_final=t_final*self.day_to_sec_\n",
    "\n",
    "    self.ri_array = self.rw_*np.exp(self.y)\n",
    "\n",
    "    #Parse Matrix Generation  #E3.2\n",
    "    self.diagonals=np.zeros((3,self.N_))\n",
    "    self.diagonals[0,:-1]= -self.xi[1:]\n",
    "    self.diagonals[1,:]= 1+2*self.xi\n",
    "    self.diagonals[2,1:]= -self.xi[:-1]\n",
    "    self.A_sparse = sc.sparse.spdiags(self.diagonals, [-1,0,1,],self.N_,self.N_,format=\"csc\")\n",
    "    self.main_diagonal=self.b\n",
    "\n",
    "  def tri_diag(self, k1=-1, k2=0, k3=1):\n",
    "    return np.diag(self.a, k1) + np.diag(self.b, k2) + np.diag(self.c, k3)\n",
    "\n",
    "  def analytical(self,y):\n",
    "    return self.pi_+self.alpha*(y-self.ye)\n",
    "\n",
    "  #E2.2\n",
    "  def plotMatrix(self): \n",
    "    print(self.A)\n",
    "\n",
    "  #E2.3\n",
    "  def solve_time(self): \n",
    "    while self.t<self.t_final:\n",
    "      self.solve()\n",
    "      self.p_old=np.copy(self.pn)\n",
    "      self.t +=self.dt_\n",
    "\n",
    "  #E2.3\n",
    "  def solve(self):  \n",
    "    self.d=np.zeros(self.N_)\n",
    "    self.d[0]=-self.beta*self.xi[0]\n",
    "    self.d[-1]=2*self.pi_*self.xi[self.N_-1]\n",
    "    self.d = self.d+self.p_old\n",
    "    self.pn=np.linalg.solve(self.A,self.d)\n",
    "\n",
    "  #E2.3\n",
    "  def plot(self): \n",
    "    self.pa=self.analytical(self.y)\n",
    "    plt.title(\"Pressure change time \" + str(self.t/self.day_to_sec_)+ \" days\")\n",
    "    plt.plot(self.y,self.pn,\"*\", label=\"numerical n=\" + str(self.N_))\n",
    "    plt.plot(self.y,self.pa, label=\"analytical\" )\n",
    "    plt.xlabel(\"y\")\n",
    "    plt.ylabel(\"Pressure in Pascal\")\n",
    "    plt.legend()\n",
    "    plt.grid()\n",
    "    plt.show()\n",
    "    self.Ni=self.N_//2\n",
    "    self.yi=self.y[self.Ni]\n",
    "    self.err=np.abs(self.pn[self.Ni]-self.analytical(self.yi))\n",
    "    print(\"error at point \" + str(self.Ni)+\" is=\"+str(self.err),\"\\n\")\n",
    "\n",
    "  #E3.1  \n",
    "  def line_source_solution(self, r, t):\n",
    "    return self.pi_+ ((self.Q_*self.mu_ * sc.special.expi(-r*r/(4*self.eta*t))/(4*np.pi*self.k_*self.h_)))\n",
    "\n",
    "  #E3.1\n",
    "  def plot_pysical_coor(self):  \n",
    "    P_l=self.line_source_solution(self.ri_array,self.t)\n",
    "    plt.plot(self.ri_array,self.pn/self.psi_to_pa_,label=\"numercail\")\n",
    "    plt.plot(self.ri_array,P_l/self.psi_to_pa_,label=\"Line source\")\n",
    "    plt.xlabel(\"Pysical coordinate\")\n",
    "    plt.ylabel(\"Pressure in Psi\")\n",
    "    plt.xscale(\"log\")\n",
    "    plt.grid()\n",
    "    plt.legend()\n",
    "\n",
    "  #E3.2\n",
    "  def solveMatrix(self,solvernr): \n",
    "    self.d=self.p_old\n",
    "    self.d[0] = -self.beta*self.xi[0]\n",
    "    self.d[-1] = 2*self.pi_*self.xi[self.N_-1]\n",
    "    if solvernr==0:\n",
    "      timer_start=timeit.default_timer()\n",
    "      print(\"dense (numpy.linalg.solve):\\n\", np.linalg.solve(self.A, self.d))\n",
    "      timer_stop=timeit.default_timer()\n",
    "      print(\"Time of dense (numpy.linalg.solve):\\n\",timer_stop-timer_start)\n",
    "    elif solvernr==1:\n",
    "      timer_start=timeit.default_timer()\n",
    "      print(\"SciPy (scipy.sparse.linalg.spsolve):\\n\",sc.sparse.linalg.spsolve(self.A_sparse, self.d))\n",
    "      timer_stop=timeit.default_timer()\n",
    "      print(\"Time of SciPy (scipy.sparse.linalg.spsolv:\\n\",timer_stop-timer_start)\n",
    "    elif solvernr==2:\n",
    "      timer_start=timeit.default_timer()\n",
    "      self.solution = np.zeros_like(self.main_diagonal)\n",
    "      # Forward elimination\n",
    "      for k in range(1, len(self.d)):\n",
    "        self.xmult = self.a[k-1] / self.main_diagonal[k-1]\n",
    "        self.main_diagonal[k] = self.main_diagonal[k] - self.xmult*self.c[k-1]\n",
    "        self.d[k] = self.d[k] - self.xmult*self.d[k-1]\n",
    "\n",
    "      # Back-substitution\n",
    "      self.solution[len(self.solution)-1] = self.d[len(self.solution)-1] / self.main_diagonal[len(self.solution)-1]\n",
    "      for k in range(len(self.d)-2, -1, -1):\n",
    "        self.solution[k] = (self.d[k]-self.c[k]*self.solution[k+1])/self.main_diagonal[k]\n",
    "      print(\"Thomas algorithm:\\n\",self.solution)\n",
    "      timer_stop=timeit.default_timer()\n",
    "      print(\"Time of Thomas algorithm:\\n\",timer_stop-timer_start)\n",
    "    else:\n",
    "      print(\"Try again\")\n",
    "\n",
    "  #E4.2\n",
    "  def well_pressure_solve_time(self): \n",
    "    self.all_time=[]\n",
    "    self.all_pressure=[]\n",
    "    while self.t<self.t_final:\n",
    "      self.solve()\n",
    "      self.p_old=np.copy(self.pn)\n",
    "      self.t +=self.dt_\n",
    "      self.all_time.append(self.t)\n",
    "      self.all_pressure.append(self.pn)\n",
    "    self.all_time=np.array(self.all_time)\n",
    "    self.all_pressure=np.array(self.all_pressure)\n",
    "\n",
    "  #E4.2        \n",
    "  def well_pressure(self):  \n",
    "    p0_time = self.all_pressure[:, 0]\n",
    "    Pwell_time = p0_time - self.beta*0.5\n",
    "    return self.all_time, Pwell_time\n",
    "\n",
    "  #E4.3\n",
    "  def plot_well_pressure(self, include_model=False, include_line_source=False): \n",
    "    fig = plt.figure()\n",
    "    \n",
    "    # Data\n",
    "    well_bhp =pd.read_csv(\"/content/well_bhp.dat\",sep=\"\\t\")\n",
    "    time =well_bhp['time'].to_numpy()\n",
    "    well_pressure= well_bhp['well_pressure'].to_numpy()\n",
    "    plt.scatter(time, well_pressure, label='Data')\n",
    "    \n",
    "    if include_model:\n",
    "      tw, pw = self.well_pressure()\n",
    "      plt.plot(tw/3600., pw/self.psi_to_pa_, label='Model')\n",
    "\n",
    "    if include_line_source:\n",
    "      tw, pw = self.well_pressure()\n",
    "      Pwell_line = self.line_source_solution(self.rw_, tw)/self.psi_to_pa_\n",
    "      plt.scatter(tw/3600., Pwell_line,label=\"Line source\")\n",
    "      \n",
    "    plt.title('Well data graph')\n",
    "    plt.xlabel('Time')\n",
    "    plt.ylabel('Well Pressure PSI')\n",
    "    plt.grid()\n",
    "    plt.legend()"
   ]
  },
  {
   "cell_type": "markdown",
   "metadata": {
    "id": "IJRrU93lGnKu"
   },
   "source": [
    "### Part 2. \n",
    "Again let N = 4. Assume default model input parameters, and that $\\Delta t = 0.01$ day."
   ]
  },
  {
   "cell_type": "markdown",
   "metadata": {
    "id": "e31lHD31o3uc"
   },
   "source": [
    "* Show that the matrix is (in SI units):  \n",
    "$$\\begin{pmatrix} 6.30844146e + 03\t & −6.30744146e + 03\t & 0.00000000e + 00 & 0.00000000e + 00 \\\\ −1.14232623e + 02 & 2.29465247e + 02 & −1.14232623e + 02 & 00.00000000e + 00 \\\\ 0.00000000e + 00 & −2.06884080e + 00 & 5.13768160e + 00 &−2.06884080e + 00\\\\ 0.00000000e + 00 & 0.00000000e + 00 & −3.74683004e − 02 & 1.11240490e + 00 \\end{pmatrix}$$  "
   ]
  },
  {
   "cell_type": "code",
   "execution_count": null,
   "metadata": {
    "colab": {
     "base_uri": "https://localhost:8080/"
    },
    "executionInfo": {
     "elapsed": 251,
     "status": "ok",
     "timestamp": 1634160445058,
     "user": {
      "displayName": "Matsuhiro Shi",
      "photoUrl": "https://lh3.googleusercontent.com/a/default-user=s64",
      "userId": "10142549915009995010"
     },
     "user_tz": -120
    },
    "id": "tduif6WPFBsZ",
    "outputId": "5f7b7c4d-e9a3-4285-f048-47664b360e85"
   },
   "outputs": [
    {
     "name": "stdout",
     "output_type": "stream",
     "text": [
      "[[ 6.30844146e+03 -6.30744146e+03  0.00000000e+00  0.00000000e+00]\n",
      " [-1.14232623e+02  2.29465247e+02 -1.14232623e+02  0.00000000e+00]\n",
      " [ 0.00000000e+00 -2.06884080e+00  5.13768160e+00 -2.06884080e+00]\n",
      " [ 0.00000000e+00  0.00000000e+00 -3.74683004e-02  1.11240490e+00]]\n"
     ]
    }
   ],
   "source": [
    "R1=RadialDiffusivityEquationSolver(4,0.01)\n",
    "R1.plotMatrix()"
   ]
  },
  {
   "cell_type": "markdown",
   "metadata": {
    "id": "3yW8d2d0GnSm"
   },
   "source": [
    "### Part 3.  "
   ]
  },
  {
   "cell_type": "markdown",
   "metadata": {
    "id": "wDrJZJLG8Y94"
   },
   "source": [
    "* Implement a simulator that solves the time-dependent problem for any choice of input parameters."
   ]
  },
  {
   "cell_type": "code",
   "execution_count": null,
   "metadata": {
    "colab": {
     "base_uri": "https://localhost:8080/",
     "height": 329
    },
    "executionInfo": {
     "elapsed": 671,
     "status": "ok",
     "timestamp": 1634243864180,
     "user": {
      "displayName": "Matsuhiro Shi",
      "photoUrl": "https://lh3.googleusercontent.com/a/default-user=s64",
      "userId": "10142549915009995010"
     },
     "user_tz": -120
    },
    "id": "9uK-N47xIJ4g",
    "outputId": "c05bcaf3-4945-4a9d-c293-8e90711be069"
   },
   "outputs": [
    {
     "data": {
      "image/png": "[encoded data removed]",
      "text/plain": [
       "<Figure size 432x288 with 1 Axes>"
      ]
     },
     "metadata": {
      "needs_background": "light"
     },
     "output_type": "display_data"
    },
    {
     "name": "stdout",
     "output_type": "stream",
     "text": [
      "error at point 20 is=2971.427111182362 \n",
      "\n"
     ]
    }
   ],
   "source": [
    "time_solver=RadialDiffusivityEquationSolver(40,10)\n",
    "time_solver.solve_time()\n",
    "time_solver.plot()"
   ]
  },
  {
   "cell_type": "markdown",
   "metadata": {
    "id": "kvBSxjfBIgCS"
   },
   "source": [
    "## Exercise 3: Accuracy and performance"
   ]
  },
  {
   "cell_type": "markdown",
   "metadata": {
    "id": "pi8dxi7F7_Yi"
   },
   "source": [
    "### Part 1.  \n"
   ]
  },
  {
   "cell_type": "markdown",
   "metadata": {
    "id": "8PwqYyPz8Nwd"
   },
   "source": [
    "* Compare your numerical solution with the line-source solution given by equation (10). Do this for several values of N. To do the comparison you need to plot your solution in terms of the physical coordinates (i.e., $r(y) = r_we^y$).  \n",
    "$$p(r,t)=p_i+\\frac{Q\\mu}{4\\pi kh}\\cdot\\mathcal W(-\\frac{r^2}{4\\eta t})\\tag{13})$$"
   ]
  },
  {
   "cell_type": "code",
   "execution_count": null,
   "metadata": {
    "colab": {
     "base_uri": "https://localhost:8080/",
     "height": 283
    },
    "executionInfo": {
     "elapsed": 810,
     "status": "ok",
     "timestamp": 1634161936777,
     "user": {
      "displayName": "Matsuhiro Shi",
      "photoUrl": "https://lh3.googleusercontent.com/a/default-user=s64",
      "userId": "10142549915009995010"
     },
     "user_tz": -120
    },
    "id": "XH-NhUmrL3Rd",
    "outputId": "20a89760-778b-4361-f797-3b09f492eac7"
   },
   "outputs": [
    {
     "data": {
      "image/png": "[encoded data removed]",
      "text/plain": [
       "<Figure size 432x288 with 1 Axes>"
      ]
     },
     "metadata": {
      "needs_background": "light"
     },
     "output_type": "display_data"
    }
   ],
   "source": [
    "Line_numerical=RadialDiffusivityEquationSolver(40,10)\n",
    "Line_numerical.solve_time()\n",
    "Line_numerical.plot_pysical_coor()"
   ]
  },
  {
   "cell_type": "markdown",
   "metadata": {
    "id": "HiRDtcWAiSrW"
   },
   "source": [
    "### Part 2. "
   ]
  },
  {
   "cell_type": "markdown",
   "metadata": {
    "id": "2dqyGKyx1MmA"
   },
   "source": [
    "Next, we want to take advantage of the symmetry of the problem. At run-time, the simulator should be able to choose between three different matrix solvers (dense (numpy.linalg.solve), sparse using SciPy (scipy.sparse.linalg.spsolve), and sparse using the Thomas algorithm)."
   ]
  },
  {
   "cell_type": "markdown",
   "metadata": {
    "id": "PsBkYJ5A1eeR"
   },
   "source": [
    "* Use the %timeit option in Jupyter to evaluate the speed of each solver.  \n",
    "* How large must N be in order to see a difference?"
   ]
  },
  {
   "cell_type": "code",
   "execution_count": null,
   "metadata": {
    "colab": {
     "base_uri": "https://localhost:8080/"
    },
    "executionInfo": {
     "elapsed": 2295,
     "status": "ok",
     "timestamp": 1634160458236,
     "user": {
      "displayName": "Matsuhiro Shi",
      "photoUrl": "https://lh3.googleusercontent.com/a/default-user=s64",
      "userId": "10142549915009995010"
     },
     "user_tz": -120
    },
    "id": "jv-HS7XbmDb_",
    "outputId": "75e7b71e-8256-44d4-af21-49d9e04ccfda"
   },
   "outputs": [
    {
     "name": "stdout",
     "output_type": "stream",
     "text": [
      "When N= 4\n",
      "dense (numpy.linalg.solve):\n",
      " [24830912.60402193 25319074.13603608 25807221.91996979 26294846.54547   ]\n",
      "Time of dense (numpy.linalg.solve):\n",
      " 0.0013007769994146656\n",
      "When N= 4\n",
      "SciPy (scipy.sparse.linalg.spsolve):\n",
      " [10140120.93210602 20768401.06710561 31396627.61712932 42027032.71766807]\n",
      "Time of SciPy (scipy.sparse.linalg.spsolv:\n",
      " 0.001130222999563557\n",
      "When N= 4\n",
      "Thomas algorithm:\n",
      " [24830912.60402193 25319074.13603609 25807221.91996979 26294846.54547   ]\n",
      "Time of Thomas algorithm:\n",
      " 0.0007671079983992968\n",
      "When N= 40\n",
      "dense (numpy.linalg.solve):\n",
      " [24942757.93107629 24991573.69710498 25040389.46239454 25089205.22660861\n",
      " 25138020.98925884 25186836.74963678 25235652.50671564 25284468.25900859\n",
      " 25333284.00436471 25382099.73967575 25430915.46045499 25479731.16023377\n",
      " 25528546.82969793 25577362.45545476 25626178.01827583 25674993.49059887\n",
      " 25723808.83298517 25772623.98911014 25821438.87870188 25870253.38762265\n",
      " 25919067.35399278 25967880.5488666  26016692.64946244 26065503.20230355\n",
      " 26114311.57283111 26163116.87711271 26211917.89024357 26260712.92506258\n",
      " 26309499.67418157 26358275.00863348 26407034.72875046 26455773.26907147\n",
      " 26504483.37240314 26553155.7741169  26601778.98552667 26650339.34986025\n",
      " 26698821.69060896 26747211.12007847 26795496.99103921 26843680.66300612]\n",
      "Time of dense (numpy.linalg.solve):\n",
      " 0.0026568009998300113\n",
      "When N= 40\n",
      "SciPy (scipy.sparse.linalg.spsolve):\n",
      " [ 1255740.18818785  2560296.13622807  3864852.07479386  5169407.99996827\n",
      "  6473963.90627581  7778519.78609801  9083075.62889188 10387631.42015882\n",
      " 11692187.1401081  12996742.76196457 14301298.24989493 15605853.55658823\n",
      " 16910408.62065443 18214963.36425062 19519517.69179315 20824071.49140573\n",
      " 22128624.64211751 23433177.03213351 24737728.59735332 26042279.39567295\n",
      " 27346829.74300753 28651380.45385788 29955933.25647913 31260491.49639802\n",
      " 32565061.31177319 33869653.57498561 35174287.07051457 36478993.65654472\n",
      " 37783826.59452634 39088873.91695034 40394279.77882925 41700278.42052644\n",
      " 43007247.99742477 44315795.63303856 45626891.44975279 46942079.31469613\n",
      " 48263807.63891173 49595948.01775685 50944608.01292292 52319405.53121927]\n",
      "Time of SciPy (scipy.sparse.linalg.spsolv:\n",
      " 0.002421229999526986\n",
      "When N= 40\n",
      "Thomas algorithm:\n",
      " [24942757.93107637 24991573.69710505 25040389.46239462 25089205.22660869\n",
      " 25138020.98925891 25186836.74963685 25235652.50671571 25284468.25900866\n",
      " 25333284.00436478 25382099.73967581 25430915.46045506 25479731.16023383\n",
      " 25528546.82969798 25577362.4554548  25626178.01827587 25674993.49059891\n",
      " 25723808.83298521 25772623.98911018 25821438.87870192 25870253.38762268\n",
      " 25919067.35399281 25967880.54886663 26016692.64946247 26065503.20230358\n",
      " 26114311.57283114 26163116.87711274 26211917.8902436  26260712.9250626\n",
      " 26309499.67418159 26358275.00863349 26407034.72875047 26455773.26907149\n",
      " 26504483.37240316 26553155.77411692 26601778.98552668 26650339.34986026\n",
      " 26698821.69060897 26747211.12007847 26795496.99103921 26843680.66300612]\n",
      "Time of Thomas algorithm:\n",
      " 0.001139282001531683\n",
      "When N= 400\n",
      "dense (numpy.linalg.solve):\n",
      " [24942082.68186459 24946964.25787139 24951845.83387377 24956727.40987159\n",
      " 24961608.98586467 24966490.56185281 24971372.13783585 24976253.71381357\n",
      " 24981135.28978577 24986016.86575225 24990898.44171279 24995780.01766716\n",
      " 25000661.59361511 25005543.16955642 25010424.74549081 25015306.32141804\n",
      " 25020187.89733782 25025069.47324986 25029951.04915389 25034832.62504957\n",
      " 25039714.20093661 25044595.77681466 25049477.35268338 25054358.92854243\n",
      " 25059240.50439142 25064122.08022999 25069003.65605772 25073885.2318742\n",
      " 25078766.80767901 25083648.38347171 25088529.95925181 25093411.53501886\n",
      " 25098293.11077234 25103174.68651176 25108056.26223656 25112937.8379462\n",
      " 25117819.41364009 25122700.98931763 25127582.56497821 25132464.14062117\n",
      " 25137345.71624585 25142227.29185155 25147108.86743756 25151990.44300312\n",
      " 25156872.01854745 25161753.59406975 25166635.16956919 25171516.74504489\n",
      " 25176398.32049595 25181279.89592144 25186161.47132037 25191043.04669175\n",
      " 25195924.62203453 25200806.19734763 25205687.77262992 25210569.34788023\n",
      " 25215450.92309735 25220332.49828002 25225214.07342694 25230095.64853675\n",
      " 25234977.22360804 25239858.79863937 25244740.37362921 25249621.948576\n",
      " 25254503.52347809 25259385.09833382 25264266.67314141 25269148.24789906\n",
      " 25274029.82260486 25278911.39725687 25283792.97185305 25288674.5463913\n",
      " 25293556.12086943 25298437.69528516 25303319.26963614 25308200.84391994\n",
      " 25313082.418134   25317963.99227571 25322845.56634234 25327727.14033105\n",
      " 25332608.7142389  25337490.28806286 25342371.86179977 25347253.43544633\n",
      " 25352135.00899916 25357016.58245472 25361898.15580935 25366779.72905928\n",
      " 25371661.30220054 25376542.87522906 25381424.44814061 25386306.02093078\n",
      " 25391187.59359502 25396069.1661286  25400950.73852662 25405832.31078399\n",
      " 25410713.88289543 25415595.45485548 25420477.02665845 25425358.59829845\n",
      " 25430240.16976938 25435121.74106491 25440003.31217846 25444884.88310324\n",
      " 25449766.45383217 25454648.02435793 25459529.59467291 25464411.16476924\n",
      " 25469292.73463875 25474174.30427296 25479055.87366308 25483937.4428\n",
      " 25488819.01167426 25493700.58027608 25498582.14859527 25503463.71662132\n",
      " 25508345.28434329 25513226.85174984 25518108.41882924 25522989.98556929\n",
      " 25527871.55195738 25532753.11798039 25537634.68362475 25542516.24887639\n",
      " 25547397.81372069 25552279.37814254 25557160.94212623 25562042.50565551\n",
      " 25566924.0687135  25571805.63128272 25576687.19334504 25581568.75488167\n",
      " 25586450.31587313 25591331.87629923 25596213.43613903 25601094.99537084\n",
      " 25605976.55397214 25610858.11191963 25615739.66918914 25620621.22575561\n",
      " 25625502.78159307 25630384.33667461 25635265.89097233 25640147.4444573\n",
      " 25645028.99709957 25649910.54886806 25654792.09973058 25659673.64965376\n",
      " 25664555.19860303 25669436.74654255 25674318.29343517 25679199.83924241\n",
      " 25684081.3839244  25688962.92743979 25693844.46974577 25698726.01079794\n",
      " 25703607.55055033 25708489.08895528 25713370.62596341 25718252.16152357\n",
      " 25723133.69558275 25728015.22808604 25732896.75897652 25737778.28819525\n",
      " 25742659.81568115 25747541.34137094 25752422.86519907 25757304.38709763\n",
      " 25762185.90699627 25767067.4248221  25771948.94049965 25776830.45395071\n",
      " 25781711.96509428 25786593.47384645 25791474.98012032 25796356.48382587\n",
      " 25801237.98486988 25806119.48315577 25811000.97858356 25815882.47104966\n",
      " 25820763.9604468  25825645.44666393 25830526.92958599 25835408.40909386\n",
      " 25840289.8850642  25845171.35736926 25850052.82587679 25854934.29044984\n",
      " 25859815.7509466  25864697.20722027 25869578.65911885 25874460.10648495\n",
      " 25879341.54915566 25884222.98696231 25889104.41973028 25893985.84727883\n",
      " 25898867.26942084 25903748.68596263 25908630.09670371 25913511.50143658\n",
      " 25918392.89994645 25923274.29201103 25928155.67740025 25933037.05587599\n",
      " 25937918.42719185 25942799.79109282 25947681.14731502 25952562.49558539\n",
      " 25957443.83562136 25962325.16713057 25967206.48981053 25972087.80334825\n",
      " 25976969.10741993 25981850.40169057 25986731.68581361 25991612.95943052\n",
      " 25996494.22217044 26001375.47364975 26006256.71347164 26011137.94122569\n",
      " 26016019.15648739 26020900.35881774 26025781.54776269 26030662.72285269\n",
      " 26035543.8836022  26040425.02950912 26045306.16005429 26050187.27470089\n",
      " 26055068.37289393 26059949.45405957 26064830.51760462 26069711.5629158\n",
      " 26074592.58935917 26079473.59627945 26084354.58299932 26089235.54881869\n",
      " 26094116.49301406 26098997.41483767 26103878.31351679 26108759.1882529\n",
      " 26113640.0382209  26118520.86256824 26123401.66041409 26128282.43084843\n",
      " 26133163.17293113 26138043.88569104 26142924.56812499 26147805.21919681\n",
      " 26152685.83783632 26157566.42293828 26162446.97336128 26167327.48792668\n",
      " 26172207.96541744 26177088.40457697 26181968.8041079  26186849.1626709\n",
      " 26191729.47888334 26196609.7513181  26201489.97850211 26206370.15891512\n",
      " 26211250.29098818 26216130.37310229 26221010.40358687 26225890.38071829\n",
      " 26230770.3027183  26235650.16775246 26240529.97392853 26245409.71929478\n",
      " 26250289.40183831 26255169.01948331 26260048.57008928 26264928.05144921\n",
      " 26269807.46128771 26274686.79725916 26279566.0569457  26284445.23785527\n",
      " 26289324.33741962 26294203.35299221 26299082.28184612 26303961.12117187\n",
      " 26308839.8680753  26313718.51957527 26318597.07260142 26323475.52399185\n",
      " 26328353.87049078 26333232.10874617 26338110.23530725 26342988.24662211\n",
      " 26347866.13903513 26352743.9087845  26357621.55199964 26362499.06469856\n",
      " 26367376.44278524 26372253.68204699 26377130.77815173 26382007.72664526\n",
      " 26386884.52294856 26391761.16235499 26396637.64002752 26401513.95099597\n",
      " 26406390.09015415 26411266.05225711 26416141.83191827 26421017.42360666\n",
      " 26425892.82164409 26430768.02020238 26435643.01330055 26440517.79480211\n",
      " 26445392.35841231 26450266.69767549 26455140.80597239 26460014.67651766\n",
      " 26464888.30235723 26469761.67636594 26474634.79124513 26479507.63952038\n",
      " 26484380.21353933 26489252.50546965 26494124.50729704 26498996.21082352\n",
      " 26503867.60766578 26508738.68925371 26513609.44682912 26518479.87144473\n",
      " 26523349.95396332 26528219.68505712 26533089.05520755 26537958.05470515\n",
      " 26542826.67364991 26547694.90195189 26552562.72933223 26557430.14532458\n",
      " 26562297.13927687 26567163.7003537  26572029.81753906 26576895.47963969\n",
      " 26581760.67528899 26586625.39295152 26591489.62092815 26596353.34736199\n",
      " 26601216.56024495 26606079.24742522 26610941.39661555 26615802.99540244\n",
      " 26620664.0312563  26625524.49154273 26630384.36353477 26635243.63442649\n",
      " 26640102.29134769 26644960.32138003 26649817.71157455 26654674.44897069\n",
      " 26659530.52061693 26664385.91359313 26669240.61503467 26674094.6121585\n",
      " 26678947.89229125 26683800.44289948 26688652.2516222  26693503.30630585\n",
      " 26698353.59504179 26703203.10620656 26708051.82850502 26712899.75101646\n",
      " 26717746.86324399 26722593.15516736 26727438.61729932 26732283.24074582\n",
      " 26737127.01727023 26741969.93936185 26746812.00030886 26751653.19427606\n",
      " 26756493.51638763 26761332.96281515 26766171.53087126 26771009.21910923\n",
      " 26775846.02742871 26780681.9571881  26785517.0113239  26790351.1944773\n",
      " 26795184.51312855 26800016.97573948 26804848.59290461 26809679.37751131\n",
      " 26814509.34490953 26819338.51309162 26824166.90288275 26828994.5381425\n",
      " 26833821.44597831 26838647.65697134 26843473.20541543 26848298.12956985\n",
      " 26853122.47192664 26857946.27949325 26862769.60409136 26867592.50267269\n",
      " 26872415.03765275 26877237.27726344 26882059.29592562 26886881.17464256]\n",
      "Time of dense (numpy.linalg.solve):\n",
      " 0.012400372999763931\n",
      "When N= 400\n",
      "SciPy (scipy.sparse.linalg.spsolve):\n",
      " [  128613.64280584   262108.86156446   395604.08026275   529099.29889854\n",
      "   662594.51746961   796089.73597366   929584.95440829  1063080.17277103\n",
      "  1196575.39105933  1330070.60927053  1463565.82740191  1597061.04545062\n",
      "  1730556.26341374  1864051.48128823  1997546.69907096  2131041.91675867\n",
      "  2264537.13434802  2398032.35183552  2531527.56921759  2665022.7864905\n",
      "  2798518.00365042  2932013.22069336  3065508.43761521  3199003.65441172\n",
      "  3332498.87107849  3465994.08761097  3599489.30400445  3732984.52025408\n",
      "  3866479.73635482  3999974.95230148  4133470.16808867  4266965.38371084\n",
      "  4400460.59916224  4533955.81443693  4667451.02952877  4800946.24443142\n",
      "  4934441.45913831  5067936.67364266  5201431.88793747  5334927.1020155\n",
      "  5468422.31586925  5601917.529491    5735412.74287276  5868907.95600627\n",
      "  6002403.168883    6135898.38149414  6269393.59383058  6402888.80588293\n",
      "  6536384.01764147  6669879.22909617  6803374.44023666  6936869.65105225\n",
      "  7070364.86153188  7203860.07166416  7337355.28143729  7470850.49083911\n",
      "  7604345.69985706  7737840.90847818  7871336.11668909  8004831.32447598\n",
      "  8138326.53182458  8271821.73872019  8405316.94514762  8538812.15109121\n",
      "  8672307.35653478  8805802.56146167  8939297.76585466  9072792.96969601\n",
      "  9206288.17296741  9339783.37564998  9473278.57772424  9606773.77917012\n",
      "  9740268.9799669   9873764.18009325 10007259.37952716 10140754.57824595\n",
      " 10274249.77622622 10407744.97344388 10541240.1698741  10674735.36549129\n",
      " 10808230.56026908 10941725.75418031 11075220.94719701 11208716.13929035\n",
      " 11342211.33043066 11475706.52058738 11609201.70972905 11742696.89782326\n",
      " 11876192.08483668 12009687.27073499 12143182.45548286 12276677.63904396\n",
      " 12410172.82138091 12543668.00245522 12677163.18222736 12810658.36065663\n",
      " 12944153.53770121 13077648.71331809 13211143.88746306 13344639.06009069\n",
      " 13478134.2311543  13611629.40060591 13745124.56839626 13878619.73447473\n",
      " 14012114.89878936 14145610.06128681 14279105.22191229 14412600.38060962\n",
      " 14546095.53732112 14679590.69198763 14813085.84454848 14946580.99494145\n",
      " 15080076.14310277 15213571.28896705 15347066.43246732 15480561.57353495\n",
      " 15614056.71209968 15747551.84808953 15881046.98143088 16014542.11204834\n",
      " 16148037.23986481 16281532.36480146 16415027.48677766 16548522.60571104\n",
      " 16682017.72151742 16815512.83411084 16949007.94340356 17082503.04930599\n",
      " 17215998.15172678 17349493.25057276 17482988.34574899 17616483.4371587\n",
      " 17749978.52470339 17883473.60828279 18016968.6877949  18150463.76313601\n",
      " 18283958.83420073 18417453.90088204 18550948.96307131 18684444.02065839\n",
      " 18817939.07353159 18951434.12157782 19084929.16468263 19218424.20273027\n",
      " 19351919.23560381 19485414.2631852  19618909.28535542 19752404.30199455\n",
      " 19885899.31298194 20019394.31819629 20152889.31751588 20286384.31081869\n",
      " 20419879.29798255 20553374.27888541 20686869.2534055  20820364.22142156\n",
      " 20953859.1828131  21087354.13746068 21220849.08524615 21354344.02605302\n",
      " 21487838.95976672 21621333.88627503 21754828.8054684  21888323.71724038\n",
      " 22021818.62148808 22155313.51811261 22288808.40701958 22422303.28811966\n",
      " 22555798.16132911 22689293.02657045 22822787.88377303 22956282.73287381\n",
      " 23089777.57381803 23223272.40656    23356767.23106401 23490262.04730511\n",
      " 23623756.85527014 23757251.65495869 23890746.44638418 24024241.229575\n",
      " 24157736.0045757  24291230.77144826 24424725.53027348 24558220.28115237\n",
      " 24691715.02420768 24825209.75958553 24958704.48745712 25092199.20802049\n",
      " 25225693.92150249 25359188.62816078 25492683.32828596 25626178.02220387\n",
      " 25759672.71027793 25893167.39291174 26026662.07055169 26160156.74368987\n",
      " 26293651.41286699 26427146.07867555 26560640.7417632  26694135.40283623\n",
      " 26827630.06266334 26961124.72207948 27094619.38199005 27228114.04337527\n",
      " 27361608.70729474 27495103.37489234 27628598.04740134 27762092.72614979\n",
      " 27895587.41256622 28029082.10818565 28162576.8146559  28296071.53374427\n",
      " 28429566.26734452 28563061.01748432 28696555.78633299 28830050.57620973\n",
      " 28963545.38959222 29097040.22912574 29230535.09763273 29364029.99812286\n",
      " 29497524.93380363 29631019.90809149 29764514.92462363 29898009.98727028\n",
      " 30031505.10014772 30165000.26763191 30298495.49437288 30431990.78530981\n",
      " 30565486.14568694 30698981.58107022 30832477.09736492 30965972.70083403\n",
      " 31099468.39811766 31232964.19625346 31366460.10269797 31499956.12534919\n",
      " 31633452.27257018 31766948.55321389 31900444.97664932 32033941.55278884\n",
      " 32167438.29211704 32300935.20572095 32434432.30532178 32567929.60330825\n",
      " 32701427.11277164 32834924.84754252 32968422.82222933 33101921.05225889\n",
      " 33235419.55391893 33368918.34440271 33502417.44185586 33635916.86542556\n",
      " 33769416.63531209 33902916.772823   34036417.3004299  34169918.24182801\n",
      " 34303419.62199877 34436921.46727534 34570423.80541147 34703926.66565365\n",
      " 34837430.07881681 34970934.07736373 35104438.69548831 35237943.96920288\n",
      " 35371449.9364298  35504956.63709749 35638464.11324108 35771972.40910804\n",
      " 35905481.57126884 36038991.64873296 36172502.69307058 36306014.75854008\n",
      " 36439527.90222172 36573042.18415776 36706557.66749926 36840074.41866005\n",
      " 36973592.50747807 37107112.00738429 37240632.99557998 37374155.55322231\n",
      " 37507679.76561883 37641205.72243133 37774733.51788936 37908263.25101395\n",
      " 38041795.02585206 38175328.95172212 38308865.14347124 38442403.72174478\n",
      " 38575944.81326853 38709488.55114446 38843035.07516039 38976584.5321144\n",
      " 39110137.07615453 39243692.8691346  39377252.08098687 39510814.89011222\n",
      " 39644381.48378883 39777952.05860009 39911526.82088272 40045105.98719592\n",
      " 40178689.78481265 40312278.45223404 40445872.23972788 40579471.40989249\n",
      " 40713076.23824703 40846687.01384943 40980304.03994337 41113927.63463549\n",
      " 41247558.13160434 41381195.88084245 41514841.24943311 41648494.62236348\n",
      " 41782156.40337555 41915827.01585692 42049506.90377304 42183196.53264292\n",
      " 42316896.39056028 42450606.98926231 42584328.86524796 42718062.58094846\n",
      " 42851808.72595207 42985567.91828579 43119340.80575655 43253128.06735473\n",
      " 43386930.41472257 43520748.59369082 43654583.38588656 43788435.61041541\n",
      " 43922306.12562173 44056195.83093014 44190105.66877227 44324036.62660266\n",
      " 44457989.73900761 44591966.08991173 44725966.8148861  44859993.10356317\n",
      " 44994046.20216299 45128127.41613598 45262238.1129276  45396379.72487034\n",
      " 45530553.75220908 45664761.76626579 45799005.41274994 45933286.41522128\n",
      " 46067606.57871213 46201967.7935162  46336372.0391518  46470821.38850733\n",
      " 46605318.01217733 46739864.1829979  46874462.28079074 47009114.797325\n",
      " 47143824.34150729 47278593.64481016 47413425.56694988 47548323.10182516\n",
      " 47683289.38372862 47818327.69384354 47953441.46703915 48088634.29897784\n",
      " 48223909.95354898 48359272.37064414 48494725.67428954 48630274.18115196\n",
      " 48765922.40943561 48901675.08818775 49037537.16703198 49173513.82634902\n",
      " 49309610.48792539 49445832.82609194 49582186.77937476 49718678.56268206\n",
      " 49855314.68005215 49992101.93798825 50129047.45940771 50266158.69823393\n",
      " 50403443.45466112 50540909.89112315 50678566.54899941 50816422.36609223\n",
      " 50954486.69491182 51092769.32180669 51231280.48697942 51370030.90542912\n",
      " 51509031.78886463 51648294.86863397 51787832.41971845 51927657.28584172\n",
      " 52067782.90574671 52208223.34069633 52348993.30325612 52490108.18742017\n",
      " 52631584.10014494 52773437.8943585  52915687.2035164  53058350.4777789\n",
      " 53201447.02188832 53344997.034829   53489021.65135686 53633542.98549023]\n",
      "Time of SciPy (scipy.sparse.linalg.spsolv:\n",
      " 0.008636119999209768\n",
      "When N= 400\n",
      "Thomas algorithm:\n",
      " [24942082.68186142 24946964.2578682  24951845.83387059 24956727.40986842\n",
      " 24961608.98586149 24966490.56184964 24971372.13783267 24976253.71381039\n",
      " 24981135.28978259 24986016.86574908 24990898.44170961 24995780.01766397\n",
      " 25000661.59361193 25005543.16955322 25010424.74548761 25015306.32141483\n",
      " 25020187.8973346  25025069.47324664 25029951.04915065 25034832.62504633\n",
      " 25039714.20093335 25044595.77681139 25049477.35268012 25054358.92853916\n",
      " 25059240.50438815 25064122.0802267  25069003.65605443 25073885.23187091\n",
      " 25078766.80767572 25083648.38346841 25088529.95924852 25093411.53501556\n",
      " 25098293.11076905 25103174.68650846 25108056.26223326 25112937.8379429\n",
      " 25117819.41363679 25122700.98931433 25127582.56497491 25132464.14061788\n",
      " 25137345.71624257 25142227.29184828 25147108.86743429 25151990.44299985\n",
      " 25156872.0185442  25161753.59406651 25166635.16956595 25171516.74504165\n",
      " 25176398.3204927  25181279.89591819 25186161.47131712 25191043.0466885\n",
      " 25195924.62203129 25200806.19734439 25205687.77262668 25210569.34787699\n",
      " 25215450.92309411 25220332.49827679 25225214.07342371 25230095.64853352\n",
      " 25234977.22360482 25239858.79863615 25244740.37362599 25249621.94857277\n",
      " 25254503.52347486 25259385.09833059 25264266.67313819 25269148.24789584\n",
      " 25274029.82260166 25278911.39725368 25283792.97184988 25288674.54638813\n",
      " 25293556.12086627 25298437.695282   25303319.269633   25308200.8439168\n",
      " 25313082.41813087 25317963.99227259 25322845.56633923 25327727.14032795\n",
      " 25332608.71423581 25337490.28805978 25342371.86179669 25347253.43544326\n",
      " 25352135.0089961  25357016.58245168 25361898.15580633 25366779.72905626\n",
      " 25371661.30219753 25376542.87522607 25381424.44813762 25386306.0209278\n",
      " 25391187.59359205 25396069.16612564 25400950.73852367 25405832.31078105\n",
      " 25410713.8828925  25415595.45485255 25420477.02665552 25425358.59829552\n",
      " 25430240.16976646 25435121.74106199 25440003.31217555 25444884.88310033\n",
      " 25449766.45382926 25454648.02435502 25459529.59467    25464411.16476633\n",
      " 25469292.73463583 25474174.30427003 25479055.87366015 25483937.44279706\n",
      " 25488819.01167132 25493700.58027312 25498582.14859231 25503463.71661834\n",
      " 25508345.2843403  25513226.85174684 25518108.41882623 25522989.98556626\n",
      " 25527871.55195433 25532753.11797732 25537634.68362167 25542516.24887328\n",
      " 25547397.81371757 25552279.3781394  25557160.94212307 25562042.50565233\n",
      " 25566924.0687103  25571805.63127951 25576687.19334182 25581568.75487844\n",
      " 25586450.3158699  25591331.87629599 25596213.43613579 25601094.99536758\n",
      " 25605976.55396888 25610858.11191637 25615739.66918588 25620621.22575235\n",
      " 25625502.78158981 25630384.33667135 25635265.89096906 25640147.44445404\n",
      " 25645028.99709631 25649910.5488648  25654792.09972731 25659673.6496505\n",
      " 25664555.19859976 25669436.74653928 25674318.29343191 25679199.83923915\n",
      " 25684081.38392114 25688962.92743654 25693844.46974252 25698726.0107947\n",
      " 25703607.55054709 25708489.08895205 25713370.62596019 25718252.16152035\n",
      " 25723133.69557954 25728015.22808284 25732896.75897333 25737778.28819207\n",
      " 25742659.81567797 25747541.34136777 25752422.8651959  25757304.38709446\n",
      " 25762185.90699311 25767067.42481896 25771948.94049651 25776830.45394758\n",
      " 25781711.96509115 25786593.47384333 25791474.9801172  25796356.48382276\n",
      " 25801237.98486676 25806119.48315267 25811000.97858045 25815882.47104656\n",
      " 25820763.96044371 25825645.44666083 25830526.92958289 25835408.40909076\n",
      " 25840289.88506109 25845171.35736616 25850052.82587368 25854934.29044673\n",
      " 25859815.75094349 25864697.20721716 25869578.65911574 25874460.10648185\n",
      " 25879341.54915256 25884222.9869592  25889104.41972718 25893985.84727573\n",
      " 25898867.26941774 25903748.68595953 25908630.09670061 25913511.50143348\n",
      " 25918392.89994336 25923274.29200794 25928155.67739716 25933037.0558729\n",
      " 25937918.42718877 25942799.79108974 25947681.14731194 25952562.49558231\n",
      " 25957443.83561829 25962325.1671275  25967206.48980746 25972087.80334519\n",
      " 25976969.10741688 25981850.40168753 25986731.68581056 25991612.95942747\n",
      " 25996494.2221674  26001375.4736467  26006256.7134686  26011137.94122265\n",
      " 26016019.15648436 26020900.35881471 26025781.54775966 26030662.72284967\n",
      " 26035543.8835992  26040425.02950613 26045306.16005131 26050187.27469793\n",
      " 26055068.37289098 26059949.45405664 26064830.51760169 26069711.56291289\n",
      " 26074592.58935628 26079473.59627658 26084354.58299646 26089235.54881586\n",
      " 26094116.49301124 26098997.41483486 26103878.31351399 26108759.18825011\n",
      " 26113640.03821813 26118520.86256548 26123401.66041135 26128282.43084572\n",
      " 26133163.17292844 26138043.88568836 26142924.56812233 26147805.21919417\n",
      " 26152685.8378337  26157566.42293566 26162446.97335868 26167327.48792409\n",
      " 26172207.96541487 26177088.40457441 26181968.80410535 26186849.16266836\n",
      " 26191729.47888082 26196609.75131558 26201489.97849962 26206370.15891264\n",
      " 26211250.29098572 26216130.37309983 26221010.40358442 26225890.38071584\n",
      " 26230770.30271586 26235650.16775003 26240529.97392611 26245409.71929237\n",
      " 26250289.40183591 26255169.01948091 26260048.57008689 26264928.05144683\n",
      " 26269807.46128534 26274686.7972568  26279566.05694334 26284445.23785292\n",
      " 26289324.33741727 26294203.35298986 26299082.28184378 26303961.12116954\n",
      " 26308839.86807299 26313718.51957297 26318597.07259913 26323475.52398957\n",
      " 26328353.87048852 26333232.10874393 26338110.23530503 26342988.2466199\n",
      " 26347866.13903294 26352743.90878233 26357621.55199749 26362499.06469642\n",
      " 26367376.44278312 26372253.6820449  26377130.77814966 26382007.72664321\n",
      " 26386884.52294654 26391761.16235298 26396637.64002554 26401513.95099401\n",
      " 26406390.09015222 26411266.05225518 26416141.83191636 26421017.42360477\n",
      " 26425892.82164222 26430768.02020053 26435643.01329872 26440517.79480029\n",
      " 26445392.3584105  26450266.69767368 26455140.8059706  26460014.67651588\n",
      " 26464888.30235546 26469761.67636419 26474634.7912434  26479507.63951867\n",
      " 26484380.21353765 26489252.50546798 26494124.5072954  26498996.21082191\n",
      " 26503867.60766419 26508738.68925214 26513609.44682758 26518479.87144321\n",
      " 26523349.95396182 26528219.68505564 26533089.05520609 26537958.05470372\n",
      " 26542826.6736485  26547694.9019505  26552562.72933086 26557430.14532322\n",
      " 26562297.13927554 26567163.70035239 26572029.81753778 26576895.47963845\n",
      " 26581760.67528778 26586625.39295033 26591489.62092698 26596353.34736083\n",
      " 26601216.56024381 26606079.24742411 26610941.39661446 26615802.99540136\n",
      " 26620664.03125524 26625524.49154168 26630384.36353375 26635243.63442548\n",
      " 26640102.2913467  26644960.32137905 26649817.71157359 26654674.44896974\n",
      " 26659530.520616   26664385.91359221 26669240.61503376 26674094.61215761\n",
      " 26678947.89229039 26683800.44289863 26688652.25162138 26693503.30630504\n",
      " 26698353.595041   26703203.10620579 26708051.82850426 26712899.75101572\n",
      " 26717746.86324326 26722593.15516665 26727438.61729862 26732283.24074513\n",
      " 26737127.01726956 26741969.93936119 26746812.00030821 26751653.19427543\n",
      " 26756493.516387   26761332.96281454 26766171.53087067 26771009.21910866\n",
      " 26775846.02742815 26780681.95718757 26785517.0113234  26790351.19447683\n",
      " 26795184.5131281  26800016.97573906 26804848.59290421 26809679.37751094\n",
      " 26814509.34490918 26819338.51309129 26824166.90288242 26828994.53814218\n",
      " 26833821.445978   26838647.65697105 26843473.20541516 26848298.1295696\n",
      " 26853122.47192641 26857946.27949304 26862769.60409117 26867592.50267253\n",
      " 26872415.03765262 26877237.27726334 26882059.29592556 26886881.17464254]\n",
      "Time of Thomas algorithm:\n",
      " 0.01008357899991097\n",
      "When N= 4000\n",
      "dense (numpy.linalg.solve):\n",
      " [24940141.51702418 24940629.67461997 24941117.8322157  ...\n",
      " 26888345.28029247 26888827.47625817 26889309.67208076]\n",
      "Time of dense (numpy.linalg.solve):\n",
      " 1.4947211319995404\n",
      "When N= 4000\n",
      "SciPy (scipy.sparse.linalg.spsolve):\n",
      " [1.28915733e+04 2.62713043e+04 3.96510352e+04 ... 5.37355056e+07\n",
      " 5.37500323e+07 5.37645642e+07]\n",
      "Time of SciPy (scipy.sparse.linalg.spsolv:\n",
      " 0.004939501999615459\n",
      "When N= 4000\n",
      "Thomas algorithm:\n",
      " [24940141.51655582 24940629.6741516  24941117.83174734 ...\n",
      " 26888345.28029187 26888827.47625781 26889309.67208064]\n",
      "Time of Thomas algorithm:\n",
      " 0.013773651000519749\n"
     ]
    }
   ],
   "source": [
    "for i in range(4):\n",
    "  for k in range(3):\n",
    "    n=10**i*4\n",
    "    print(\"When N=\",n)\n",
    "    matrix_solvers=RadialDiffusivityEquationSolver(n,10)\n",
    "    matrix_solvers.solveMatrix(k)"
   ]
  },
  {
   "cell_type": "markdown",
   "metadata": {
    "id": "eZ7JAZFc_G7c"
   },
   "source": [
    "> The speed of 3 methods varies when N=4,40,400,4000, and N=4 is big enough to see a difference."
   ]
  },
  {
   "cell_type": "markdown",
   "metadata": {
    "id": "5UkNwvMgzTXT"
   },
   "source": [
    "## Exercise 4: Match model to well test data"
   ]
  },
  {
   "cell_type": "markdown",
   "metadata": {
    "id": "-Rq-PhfuWD7C"
   },
   "source": [
    "In the final exercise we are going to study data from a well test. During a well test, the production engineer starts to produce from the reservoir, while monitoring how well pressure changes in time."
   ]
  },
  {
   "cell_type": "markdown",
   "metadata": {
    "id": "YaRHxY76WLSa"
   },
   "source": [
    "### Part 1."
   ]
  },
  {
   "cell_type": "markdown",
   "metadata": {
    "id": "Dcx1aiatWRMn"
   },
   "source": [
    "So far, we have calculated the pressure distribution inside the reservoir. The actual observable well pressure is missing from our calculations, but we can estimate it by discretizing equation (11)."
   ]
  },
  {
   "cell_type": "markdown",
   "metadata": {
    "id": "32-hV5ffW_z9"
   },
   "source": [
    "* Use a first-order finite difference approximation to find a formula for the well pressure in terms of the well block pressure, $p_0$."
   ]
  },
  {
   "cell_type": "markdown",
   "metadata": {
    "id": "8dcoCA5JDy5b"
   },
   "source": [
    "> According to the equation:    \n",
    "$$\\frac{\\rm d^2p}{\\rm dy^2}\\bigg|_{i}=\\frac{ p_{i+1}^{n+1} + p_{i-1}^{n+1} - 2p_{i}^{n+1}}{\\Delta \n",
    "y^2}+\\mathcal O(\\Delta y^2)$$  \n",
    "And we know that $\\frac{d^2p}{dy^2}=0$  \n",
    "Hence, we can find a formula for well prssure in terms of the well block pressure $P_0$ by applying the implicit time-discreization at grid point $P_w$ with setp-size $\\frac{\\Delta y}{2}$. We get:  \n",
    "$$\\frac{p_0^{n+1} + p_{-1}^{n+1} - 2p_{w}^{n+1}}{(\\frac{\\Delta \n",
    "y}{2})^2}+\\mathcal O(\\frac{\\Delta y}{2})^2=0$$  \n",
    "$$\\Rightarrow p_{0}^{n+1} + p_{-1}^{n+1} - 2p_{w}^{n+1} +\\mathcal O(\\frac{\\Delta y}{2})^4=0\\tag{14}$$  \n",
    "And central difference approximation to express the pressure at \"the ghost node\" $i = w$ in terms of $p_{-1}$:  \n",
    "$$\\frac{\\rm dp}{\\rm dy}\\bigg|_{y = w}=\\frac{p_w-p_{-1}}{(\\frac{\\Delta \n",
    "y}{2})}+\\mathcal O(\\frac{\\Delta y}{2})=\\alpha$$  \n",
    "$$\\Rightarrow p_{-1}=p_w-\\alpha\\frac{\\Delta y}{2}-\\mathcal O(\\frac{\\Delta y}{2})\\tag{15}$$  \n",
    "By inserting equation(15) into eeqaution(14), we get the following:  \n",
    "$$p_{0}^{n+1} - p_{w}^{n+1} - \\alpha\\frac{\\Delta y}{2}-\\mathcal O(\\frac{\\Delta y}{2})^4 -\\mathcal O(\\frac{\\Delta y}{2})=0 \n",
    "$$  \n",
    "Hence, the well pressure formula in terms of the well block pressure is:  \n",
    "$$p_{w}^{n+1}= p_{0}^{n+1} - \\alpha\\frac{\\Delta y}{2}-\\mathcal O(\\frac{\\Delta y}{2})^4 -\\mathcal O(\\frac{\\Delta y}{2})\\tag{16}$$"
   ]
  },
  {
   "cell_type": "markdown",
   "metadata": {
    "id": "fHbooXYNEOvX"
   },
   "source": [
    "### Part 2.  "
   ]
  },
  {
   "cell_type": "markdown",
   "metadata": {
    "id": "mPC9ScrXAAZ3"
   },
   "source": [
    "* Extend your simulator by adding a function that calculates the well pressure."
   ]
  },
  {
   "cell_type": "code",
   "execution_count": null,
   "metadata": {
    "colab": {
     "base_uri": "https://localhost:8080/"
    },
    "executionInfo": {
     "elapsed": 277,
     "status": "ok",
     "timestamp": 1634160765192,
     "user": {
      "displayName": "Matsuhiro Shi",
      "photoUrl": "https://lh3.googleusercontent.com/a/default-user=s64",
      "userId": "10142549915009995010"
     },
     "user_tz": -120
    },
    "id": "V48n7cd_NYTm",
    "outputId": "97dbf510-f53b-4f38-98b7-8d7949b6ede2"
   },
   "outputs": [
    {
     "name": "stdout",
     "output_type": "stream",
     "text": [
      "The final well pressure is 3616.7949067866393 psi\n"
     ]
    }
   ],
   "source": [
    "solver=RadialDiffusivityEquationSolver(4,0.01)\n",
    "solver.well_pressure_solve_time()\n",
    "t, pw = solver.well_pressure()\n",
    "print(f\"The final well pressure is {pw[-1]/solver.psi_to_pa_} psi\")"
   ]
  },
  {
   "cell_type": "markdown",
   "metadata": {
    "id": "pnwwoMZbABuB"
   },
   "source": [
    "### Part 3.  \n",
    "Well test data are available in the text file well_bhp.dat (located in the data folder)."
   ]
  },
  {
   "cell_type": "markdown",
   "metadata": {
    "id": "RUAkG8MigyWi"
   },
   "source": [
    "* Read the well test data into Python, and make a scatter plot of well pressure versus time."
   ]
  },
  {
   "cell_type": "code",
   "execution_count": null,
   "metadata": {
    "colab": {
     "base_uri": "https://localhost:8080/",
     "height": 295
    },
    "executionInfo": {
     "elapsed": 780,
     "status": "ok",
     "timestamp": 1634161472229,
     "user": {
      "displayName": "Matsuhiro Shi",
      "photoUrl": "https://lh3.googleusercontent.com/a/default-user=s64",
      "userId": "10142549915009995010"
     },
     "user_tz": -120
    },
    "id": "ebAURXF8gxzC",
    "outputId": "0ab7f263-fb12-4627-d039-4e7e5a522158"
   },
   "outputs": [
    {
     "data": {
      "image/png": "[encoded data removed]",
      "text/plain": [
       "<Figure size 432x288 with 1 Axes>"
      ]
     },
     "metadata": {
      "needs_background": "light"
     },
     "output_type": "display_data"
    }
   ],
   "source": [
    "A=RadialDiffusivityEquationSolver(4, 0.01,t_final=1750/24) \n",
    "A.well_pressure_solve_time()\n",
    "A.plot_well_pressure(include_model=True, include_line_source=False)"
   ]
  },
  {
   "cell_type": "markdown",
   "metadata": {
    "id": "CwQo3SmalajE"
   },
   "source": [
    "### Part 4.  \n",
    "Towards the end of the test, we see that the well pressure stabilizes towards a constant value. This indicates that the pressure wave has reached the edge of the reservoir.  \n",
    "For this part you may assume default model input for all\n",
    "parameters except the following three: $k$, $p_i$, and $r_e$."
   ]
  },
  {
   "cell_type": "markdown",
   "metadata": {
    "id": "m50a_JJVlfES"
   },
   "source": [
    "* Fit your numerical model to the well test data by changing the values of $k$, $p_i$, and $r_e$.  \n",
    "* Make a plot in which you compare 1) the well test data, 2) your numerical well pressure solution, and 3) the corresponding line-source solution at $r = r_w$."
   ]
  },
  {
   "cell_type": "code",
   "execution_count": null,
   "metadata": {
    "colab": {
     "base_uri": "https://localhost:8080/",
     "height": 295
    },
    "executionInfo": {
     "elapsed": 1146,
     "status": "ok",
     "timestamp": 1634161995845,
     "user": {
      "displayName": "Matsuhiro Shi",
      "photoUrl": "https://lh3.googleusercontent.com/a/default-user=s64",
      "userId": "10142549915009995010"
     },
     "user_tz": -120
    },
    "id": "eyPtzOg2mK_z",
    "outputId": "c116ad33-1306-45f1-91df-36e86aac588e"
   },
   "outputs": [
    {
     "data": {
      "image/png": "[encoded data removed]",
      "text/plain": [
       "<Figure size 432x288 with 1 Axes>"
      ]
     },
     "metadata": {
      "needs_background": "light"
     },
     "output_type": "display_data"
    }
   ],
   "source": [
    "B=RadialDiffusivityEquationSolver(40, 0.01,k=315,re=7200,t_final=1750/24) \n",
    "B.well_pressure_solve_time()\n",
    "B.plot_well_pressure(include_model=True, include_line_source=True)"
   ]
  },
  {
   "cell_type": "markdown",
   "metadata": {
    "id": "oGDJcMMhmyU0"
   },
   "source": [
    "### Part 5."
   ]
  },
  {
   "cell_type": "markdown",
   "metadata": {
    "id": "5A8DE5SJm1hD"
   },
   "source": [
    "* Based on the value you found for $r_e$, what is the total volume of water in the reservoir?"
   ]
  },
  {
   "cell_type": "markdown",
   "metadata": {
    "id": "Ns82LWR3nDno"
   },
   "source": [
    "> From part 4 in this exercise we found that $r_e=7200 ft$. We can calculate the total volume of water by assuming that the reservoir has a cylindrical shape:  \n",
    "The water volume forluma is:  \n",
    "$$V_{water}= (r_e - r_w)^2.\\pi.h.\\phi$$  \n",
    "$$r_w= 0.328 \\rm {ft}$$  \n",
    "Thus, the total volume of water is:  \n",
    "$$V_{water}= (7200-0.328)^2\\cdot\\pi\\cdot 8\\cdot 0.2=260552520 \\rm {ft}^3 ≈ 7.38\\cdot 10^6 m^3$$"
   ]
  },
  {
   "cell_type": "markdown",
   "metadata": {
    "id": "6IidYpBem-eB"
   },
   "source": [
    "## Conclusion and Discussion  "
   ]
  },
  {
   "cell_type": "markdown",
   "metadata": {
    "id": "itpGztirBZ7E"
   },
   "source": [
    "The first three parts of the project simulated well pressure of a reservoir through deriving of implicit finite difference scheme as well as Taylor expansion. Besides, by solving of the matrix equation with $N =$ 4, 40, 400, and 4000, there is some numerical error comparing with the analytical expression spesially N is small. Since the infinite acting line-source solution is the most fundamental solution in well testing, and the analysis of the spatial and temporal behavior of this solution gives valuable insights. The line source solution is accurate for distances far away from the well at all times, but is not accurate for the well pressure at short times.\n",
    "\n",
    "In the last part of project, an extensive numerical study has been executed to validate the model for monitoring how well pressure changes in time while the production engineer starts to produce from the reservoir. Good result that the well pressure stabilizes towards a constant value have been shown towards the end of the test. This indicates that the pressure wave has reached the edge of the reservoir. In addition, the ratio of the reservoir was calculated as $7.200\\rm {ft}$, with a volume of $7.38\\cdot10^6 m^3$ in this case. "
   ]
  }
 ],
 "metadata": {
  "colab": {
   "collapsed_sections": [],
   "name": "MOD 510 Project 2_Last1 .ipynb",
   "provenance": []
  },
  "kernelspec": {
   "display_name": "Python 3",
   "language": "python",
   "name": "python3"
  },
  "language_info": {
   "codemirror_mode": {
    "name": "ipython",
    "version": 3
   },
   "file_extension": ".py",
   "mimetype": "text/x-python",
   "name": "python",
   "nbconvert_exporter": "python",
   "pygments_lexer": "ipython3",
   "version": "3.8.8"
  },
  "toc": {
   "base_numbering": 1,
   "nav_menu": {},
   "number_sections": true,
   "sideBar": true,
   "skip_h1_title": false,
   "title_cell": "Table of Contents",
   "title_sidebar": "Contents",
   "toc_cell": false,
   "toc_position": {},
   "toc_section_display": true,
   "toc_window_display": false
  }
 },
 "nbformat": 4,
 "nbformat_minor": 1
}
